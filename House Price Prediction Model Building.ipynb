{
 "cells": [
  {
   "cell_type": "markdown",
   "metadata": {},
   "source": [
    "## Train Test Split"
   ]
  },
  {
   "cell_type": "code",
   "execution_count": 51,
   "metadata": {},
   "outputs": [],
   "source": [
    "xdf = df_number_new.drop(['SalePrice'],axis=1)\n",
    "ydf =df_number_new['SalePrice']"
   ]
  },
  {
   "cell_type": "code",
   "execution_count": 52,
   "metadata": {},
   "outputs": [],
   "source": [
    "from sklearn.model_selection import train_test_split\n",
    "x_traindf,x_testdf,y_traindf,y_testdf=train_test_split(xdf,ydf,test_size=0.30,random_state=40)"
   ]
  },
  {
   "cell_type": "markdown",
   "metadata": {},
   "source": [
    "## OLS Model"
   ]
  },
  {
   "cell_type": "code",
   "execution_count": 53,
   "metadata": {},
   "outputs": [],
   "source": [
    "import statsmodels.api as sm\n",
    "model2 =sm.OLS(y_traindf,x_traindf).fit()"
   ]
  },
  {
   "cell_type": "code",
   "execution_count": 54,
   "metadata": {},
   "outputs": [
    {
     "data": {
      "text/html": [
       "<table class=\"simpletable\">\n",
       "<caption>OLS Regression Results</caption>\n",
       "<tr>\n",
       "  <th>Dep. Variable:</th>        <td>SalePrice</td>    <th>  R-squared (uncentered):</th>      <td>   1.000</td> \n",
       "</tr>\n",
       "<tr>\n",
       "  <th>Model:</th>                   <td>OLS</td>       <th>  Adj. R-squared (uncentered):</th> <td>   1.000</td> \n",
       "</tr>\n",
       "<tr>\n",
       "  <th>Method:</th>             <td>Least Squares</td>  <th>  F-statistic:       </th>          <td>6.694e+04</td>\n",
       "</tr>\n",
       "<tr>\n",
       "  <th>Date:</th>             <td>Thu, 09 Apr 2020</td> <th>  Prob (F-statistic):</th>           <td>  0.00</td>  \n",
       "</tr>\n",
       "<tr>\n",
       "  <th>Time:</th>                 <td>18:18:18</td>     <th>  Log-Likelihood:    </th>          <td>  904.39</td> \n",
       "</tr>\n",
       "<tr>\n",
       "  <th>No. Observations:</th>      <td>  1022</td>      <th>  AIC:               </th>          <td>  -1445.</td> \n",
       "</tr>\n",
       "<tr>\n",
       "  <th>Df Residuals:</th>          <td>   840</td>      <th>  BIC:               </th>          <td>  -547.6</td> \n",
       "</tr>\n",
       "<tr>\n",
       "  <th>Df Model:</th>              <td>   182</td>      <th>                     </th>              <td> </td>    \n",
       "</tr>\n",
       "<tr>\n",
       "  <th>Covariance Type:</th>      <td>nonrobust</td>    <th>                     </th>              <td> </td>    \n",
       "</tr>\n",
       "</table>\n",
       "<table class=\"simpletable\">\n",
       "<tr>\n",
       "            <td></td>              <th>coef</th>     <th>std err</th>      <th>t</th>      <th>P>|t|</th>  <th>[0.025</th>    <th>0.975]</th>  \n",
       "</tr>\n",
       "<tr>\n",
       "  <th>MSSubClass</th>           <td>   -0.0254</td> <td>    0.021</td> <td>   -1.188</td> <td> 0.235</td> <td>   -0.067</td> <td>    0.017</td>\n",
       "</tr>\n",
       "<tr>\n",
       "  <th>LotFrontage</th>          <td>    0.0044</td> <td>    0.020</td> <td>    0.217</td> <td> 0.828</td> <td>   -0.035</td> <td>    0.044</td>\n",
       "</tr>\n",
       "<tr>\n",
       "  <th>LotArea</th>              <td>    0.0970</td> <td>    0.015</td> <td>    6.422</td> <td> 0.000</td> <td>    0.067</td> <td>    0.127</td>\n",
       "</tr>\n",
       "<tr>\n",
       "  <th>OverallQual</th>          <td>    0.2613</td> <td>    0.037</td> <td>    7.129</td> <td> 0.000</td> <td>    0.189</td> <td>    0.333</td>\n",
       "</tr>\n",
       "<tr>\n",
       "  <th>OverallCond</th>          <td>    0.2325</td> <td>    0.031</td> <td>    7.495</td> <td> 0.000</td> <td>    0.172</td> <td>    0.293</td>\n",
       "</tr>\n",
       "<tr>\n",
       "  <th>YearBuilt</th>            <td>    4.2345</td> <td>    0.829</td> <td>    5.107</td> <td> 0.000</td> <td>    2.607</td> <td>    5.862</td>\n",
       "</tr>\n",
       "<tr>\n",
       "  <th>YearRemodAdd</th>         <td>    1.9287</td> <td>    0.594</td> <td>    3.249</td> <td> 0.001</td> <td>    0.764</td> <td>    3.094</td>\n",
       "</tr>\n",
       "<tr>\n",
       "  <th>MasVnrArea</th>           <td>    0.0010</td> <td>    0.006</td> <td>    0.155</td> <td> 0.877</td> <td>   -0.012</td> <td>    0.014</td>\n",
       "</tr>\n",
       "<tr>\n",
       "  <th>BsmtFinSF1</th>           <td>    0.0164</td> <td>    0.007</td> <td>    2.444</td> <td> 0.015</td> <td>    0.003</td> <td>    0.029</td>\n",
       "</tr>\n",
       "<tr>\n",
       "  <th>BsmtFinSF2</th>           <td>    0.0036</td> <td>    0.012</td> <td>    0.296</td> <td> 0.767</td> <td>   -0.020</td> <td>    0.027</td>\n",
       "</tr>\n",
       "<tr>\n",
       "  <th>BsmtUnfSF</th>            <td>   -0.0005</td> <td>    0.003</td> <td>   -0.140</td> <td> 0.889</td> <td>   -0.007</td> <td>    0.006</td>\n",
       "</tr>\n",
       "<tr>\n",
       "  <th>TotalBsmtSF</th>          <td>    0.0157</td> <td>    0.007</td> <td>    2.197</td> <td> 0.028</td> <td>    0.002</td> <td>    0.030</td>\n",
       "</tr>\n",
       "<tr>\n",
       "  <th>1stFlrSF</th>             <td>    0.0559</td> <td>    0.058</td> <td>    0.967</td> <td> 0.334</td> <td>   -0.058</td> <td>    0.169</td>\n",
       "</tr>\n",
       "<tr>\n",
       "  <th>2ndFlrSF</th>             <td>   -0.0025</td> <td>    0.007</td> <td>   -0.338</td> <td> 0.735</td> <td>   -0.017</td> <td>    0.012</td>\n",
       "</tr>\n",
       "<tr>\n",
       "  <th>LowQualFinSF</th>         <td>   -0.0086</td> <td>    0.007</td> <td>   -1.160</td> <td> 0.247</td> <td>   -0.023</td> <td>    0.006</td>\n",
       "</tr>\n",
       "<tr>\n",
       "  <th>GrLivArea</th>            <td>    0.4249</td> <td>    0.069</td> <td>    6.160</td> <td> 0.000</td> <td>    0.290</td> <td>    0.560</td>\n",
       "</tr>\n",
       "<tr>\n",
       "  <th>BsmtFullBath</th>         <td>    0.0335</td> <td>    0.017</td> <td>    1.984</td> <td> 0.048</td> <td>    0.000</td> <td>    0.067</td>\n",
       "</tr>\n",
       "<tr>\n",
       "  <th>BsmtHalfBath</th>         <td>   -0.0011</td> <td>    0.026</td> <td>   -0.044</td> <td> 0.965</td> <td>   -0.051</td> <td>    0.049</td>\n",
       "</tr>\n",
       "<tr>\n",
       "  <th>FullBath</th>             <td>   -0.0089</td> <td>    0.033</td> <td>   -0.272</td> <td> 0.785</td> <td>   -0.073</td> <td>    0.055</td>\n",
       "</tr>\n",
       "<tr>\n",
       "  <th>HalfBath</th>             <td>    0.0118</td> <td>    0.018</td> <td>    0.645</td> <td> 0.519</td> <td>   -0.024</td> <td>    0.048</td>\n",
       "</tr>\n",
       "<tr>\n",
       "  <th>BedroomAbvGr</th>         <td>   -0.0321</td> <td>    0.028</td> <td>   -1.146</td> <td> 0.252</td> <td>   -0.087</td> <td>    0.023</td>\n",
       "</tr>\n",
       "<tr>\n",
       "  <th>KitchenAbvGr</th>         <td>   -0.1073</td> <td>    0.074</td> <td>   -1.460</td> <td> 0.145</td> <td>   -0.252</td> <td>    0.037</td>\n",
       "</tr>\n",
       "<tr>\n",
       "  <th>TotRmsAbvGrd</th>         <td>    0.0325</td> <td>    0.040</td> <td>    0.808</td> <td> 0.419</td> <td>   -0.046</td> <td>    0.111</td>\n",
       "</tr>\n",
       "<tr>\n",
       "  <th>Fireplaces</th>           <td>    0.0223</td> <td>    0.014</td> <td>    1.633</td> <td> 0.103</td> <td>   -0.004</td> <td>    0.049</td>\n",
       "</tr>\n",
       "<tr>\n",
       "  <th>GarageYrBlt</th>          <td>    0.3476</td> <td>    0.612</td> <td>    0.568</td> <td> 0.570</td> <td>   -0.853</td> <td>    1.549</td>\n",
       "</tr>\n",
       "<tr>\n",
       "  <th>GarageCars</th>           <td>    0.1228</td> <td>    0.032</td> <td>    3.792</td> <td> 0.000</td> <td>    0.059</td> <td>    0.186</td>\n",
       "</tr>\n",
       "<tr>\n",
       "  <th>GarageArea</th>           <td>   -0.0098</td> <td>    0.007</td> <td>   -1.423</td> <td> 0.155</td> <td>   -0.023</td> <td>    0.004</td>\n",
       "</tr>\n",
       "<tr>\n",
       "  <th>WoodDeckSF</th>           <td>    0.0034</td> <td>    0.002</td> <td>    2.087</td> <td> 0.037</td> <td>    0.000</td> <td>    0.007</td>\n",
       "</tr>\n",
       "<tr>\n",
       "  <th>OpenPorchSF</th>          <td>    0.0026</td> <td>    0.002</td> <td>    1.161</td> <td> 0.246</td> <td>   -0.002</td> <td>    0.007</td>\n",
       "</tr>\n",
       "<tr>\n",
       "  <th>EnclosedPorch</th>        <td>    0.0034</td> <td>    0.003</td> <td>    1.280</td> <td> 0.201</td> <td>   -0.002</td> <td>    0.009</td>\n",
       "</tr>\n",
       "<tr>\n",
       "  <th>3SsnPorch</th>            <td>    0.0023</td> <td>    0.005</td> <td>    0.425</td> <td> 0.671</td> <td>   -0.008</td> <td>    0.013</td>\n",
       "</tr>\n",
       "<tr>\n",
       "  <th>ScreenPorch</th>          <td>    0.0083</td> <td>    0.003</td> <td>    2.781</td> <td> 0.006</td> <td>    0.002</td> <td>    0.014</td>\n",
       "</tr>\n",
       "<tr>\n",
       "  <th>PoolArea</th>             <td>    0.0252</td> <td>    0.009</td> <td>    2.731</td> <td> 0.006</td> <td>    0.007</td> <td>    0.043</td>\n",
       "</tr>\n",
       "<tr>\n",
       "  <th>MiscVal</th>              <td>   -0.0038</td> <td>    0.003</td> <td>   -1.156</td> <td> 0.248</td> <td>   -0.010</td> <td>    0.003</td>\n",
       "</tr>\n",
       "<tr>\n",
       "  <th>MoSold</th>               <td>   -0.0078</td> <td>    0.009</td> <td>   -0.864</td> <td> 0.388</td> <td>   -0.026</td> <td>    0.010</td>\n",
       "</tr>\n",
       "<tr>\n",
       "  <th>YrSold</th>               <td>   -6.0351</td> <td>    0.974</td> <td>   -6.197</td> <td> 0.000</td> <td>   -7.947</td> <td>   -4.124</td>\n",
       "</tr>\n",
       "<tr>\n",
       "  <th>MSZoning_FV</th>          <td>    0.8341</td> <td>    0.120</td> <td>    6.970</td> <td> 0.000</td> <td>    0.599</td> <td>    1.069</td>\n",
       "</tr>\n",
       "<tr>\n",
       "  <th>MSZoning_RH</th>          <td>    0.7698</td> <td>    0.118</td> <td>    6.503</td> <td> 0.000</td> <td>    0.537</td> <td>    1.002</td>\n",
       "</tr>\n",
       "<tr>\n",
       "  <th>MSZoning_RL</th>          <td>    0.7268</td> <td>    0.106</td> <td>    6.879</td> <td> 0.000</td> <td>    0.519</td> <td>    0.934</td>\n",
       "</tr>\n",
       "<tr>\n",
       "  <th>MSZoning_RM</th>          <td>    0.6810</td> <td>    0.102</td> <td>    6.684</td> <td> 0.000</td> <td>    0.481</td> <td>    0.881</td>\n",
       "</tr>\n",
       "<tr>\n",
       "  <th>Street_Pave</th>          <td>    0.0361</td> <td>    0.095</td> <td>    0.381</td> <td> 0.703</td> <td>   -0.150</td> <td>    0.222</td>\n",
       "</tr>\n",
       "<tr>\n",
       "  <th>LotShape_IR2</th>         <td>    0.0375</td> <td>    0.036</td> <td>    1.049</td> <td> 0.294</td> <td>   -0.033</td> <td>    0.108</td>\n",
       "</tr>\n",
       "<tr>\n",
       "  <th>LotShape_IR3</th>         <td>    0.0193</td> <td>    0.072</td> <td>    0.266</td> <td> 0.790</td> <td>   -0.123</td> <td>    0.161</td>\n",
       "</tr>\n",
       "<tr>\n",
       "  <th>LotShape_Reg</th>         <td>    0.0041</td> <td>    0.013</td> <td>    0.307</td> <td> 0.759</td> <td>   -0.022</td> <td>    0.030</td>\n",
       "</tr>\n",
       "<tr>\n",
       "  <th>Utilities_NoSeWa</th>     <td>-1.816e-14</td> <td> 5.67e-15</td> <td>   -3.204</td> <td> 0.001</td> <td>-2.93e-14</td> <td>-7.03e-15</td>\n",
       "</tr>\n",
       "<tr>\n",
       "  <th>LotConfig_CulDSac</th>    <td>    0.0332</td> <td>    0.029</td> <td>    1.154</td> <td> 0.249</td> <td>   -0.023</td> <td>    0.090</td>\n",
       "</tr>\n",
       "<tr>\n",
       "  <th>LotConfig_FR2</th>        <td>   -0.0625</td> <td>    0.032</td> <td>   -1.935</td> <td> 0.053</td> <td>   -0.126</td> <td>    0.001</td>\n",
       "</tr>\n",
       "<tr>\n",
       "  <th>LotConfig_FR3</th>        <td>   -0.1104</td> <td>    0.086</td> <td>   -1.285</td> <td> 0.199</td> <td>   -0.279</td> <td>    0.058</td>\n",
       "</tr>\n",
       "<tr>\n",
       "  <th>LotConfig_Inside</th>     <td>   -0.0132</td> <td>    0.015</td> <td>   -0.887</td> <td> 0.376</td> <td>   -0.042</td> <td>    0.016</td>\n",
       "</tr>\n",
       "<tr>\n",
       "  <th>LandSlope_Mod</th>        <td>    0.0403</td> <td>    0.035</td> <td>    1.167</td> <td> 0.244</td> <td>   -0.027</td> <td>    0.108</td>\n",
       "</tr>\n",
       "<tr>\n",
       "  <th>LandSlope_Sev</th>        <td>   -0.1608</td> <td>    0.073</td> <td>   -2.205</td> <td> 0.028</td> <td>   -0.304</td> <td>   -0.018</td>\n",
       "</tr>\n",
       "<tr>\n",
       "  <th>Neighborhood_Blueste</th> <td>-2.338e-14</td> <td> 3.23e-15</td> <td>   -7.243</td> <td> 0.000</td> <td>-2.97e-14</td> <td> -1.7e-14</td>\n",
       "</tr>\n",
       "<tr>\n",
       "  <th>Neighborhood_BrDale</th>  <td>   -0.0097</td> <td>    0.094</td> <td>   -0.104</td> <td> 0.917</td> <td>   -0.194</td> <td>    0.174</td>\n",
       "</tr>\n",
       "<tr>\n",
       "  <th>Neighborhood_BrkSide</th> <td>   -0.0245</td> <td>    0.079</td> <td>   -0.312</td> <td> 0.755</td> <td>   -0.179</td> <td>    0.130</td>\n",
       "</tr>\n",
       "<tr>\n",
       "  <th>Neighborhood_ClearCr</th> <td>   -0.0566</td> <td>    0.079</td> <td>   -0.719</td> <td> 0.472</td> <td>   -0.211</td> <td>    0.098</td>\n",
       "</tr>\n",
       "<tr>\n",
       "  <th>Neighborhood_CollgCr</th> <td>   -0.0984</td> <td>    0.061</td> <td>   -1.604</td> <td> 0.109</td> <td>   -0.219</td> <td>    0.022</td>\n",
       "</tr>\n",
       "<tr>\n",
       "  <th>Neighborhood_Crawfor</th> <td>    0.0796</td> <td>    0.072</td> <td>    1.102</td> <td> 0.271</td> <td>   -0.062</td> <td>    0.222</td>\n",
       "</tr>\n",
       "<tr>\n",
       "  <th>Neighborhood_Edwards</th> <td>   -0.2004</td> <td>    0.068</td> <td>   -2.964</td> <td> 0.003</td> <td>   -0.333</td> <td>   -0.068</td>\n",
       "</tr>\n",
       "<tr>\n",
       "  <th>Neighborhood_Gilbert</th> <td>   -0.1185</td> <td>    0.065</td> <td>   -1.825</td> <td> 0.068</td> <td>   -0.246</td> <td>    0.009</td>\n",
       "</tr>\n",
       "<tr>\n",
       "  <th>Neighborhood_IDOTRR</th>  <td>   -0.1051</td> <td>    0.090</td> <td>   -1.163</td> <td> 0.245</td> <td>   -0.282</td> <td>    0.072</td>\n",
       "</tr>\n",
       "<tr>\n",
       "  <th>Neighborhood_MeadowV</th> <td>   -0.1318</td> <td>    0.092</td> <td>   -1.430</td> <td> 0.153</td> <td>   -0.313</td> <td>    0.049</td>\n",
       "</tr>\n",
       "<tr>\n",
       "  <th>Neighborhood_Mitchel</th> <td>   -0.1717</td> <td>    0.069</td> <td>   -2.501</td> <td> 0.013</td> <td>   -0.306</td> <td>   -0.037</td>\n",
       "</tr>\n",
       "<tr>\n",
       "  <th>Neighborhood_NAmes</th>   <td>   -0.1199</td> <td>    0.066</td> <td>   -1.825</td> <td> 0.068</td> <td>   -0.249</td> <td>    0.009</td>\n",
       "</tr>\n",
       "<tr>\n",
       "  <th>Neighborhood_NPkVill</th> <td>    0.0045</td> <td>    0.114</td> <td>    0.039</td> <td> 0.969</td> <td>   -0.219</td> <td>    0.228</td>\n",
       "</tr>\n",
       "<tr>\n",
       "  <th>Neighborhood_NWAmes</th>  <td>   -0.1472</td> <td>    0.067</td> <td>   -2.185</td> <td> 0.029</td> <td>   -0.279</td> <td>   -0.015</td>\n",
       "</tr>\n",
       "<tr>\n",
       "  <th>Neighborhood_NoRidge</th> <td>    0.1007</td> <td>    0.071</td> <td>    1.411</td> <td> 0.159</td> <td>   -0.039</td> <td>    0.241</td>\n",
       "</tr>\n",
       "<tr>\n",
       "  <th>Neighborhood_NridgHt</th> <td>    0.1398</td> <td>    0.064</td> <td>    2.200</td> <td> 0.028</td> <td>    0.015</td> <td>    0.264</td>\n",
       "</tr>\n",
       "<tr>\n",
       "  <th>Neighborhood_OldTown</th> <td>   -0.1678</td> <td>    0.080</td> <td>   -2.094</td> <td> 0.037</td> <td>   -0.325</td> <td>   -0.010</td>\n",
       "</tr>\n",
       "<tr>\n",
       "  <th>Neighborhood_SWISU</th>   <td>   -0.0652</td> <td>    0.083</td> <td>   -0.788</td> <td> 0.431</td> <td>   -0.228</td> <td>    0.097</td>\n",
       "</tr>\n",
       "<tr>\n",
       "  <th>Neighborhood_Sawyer</th>  <td>   -0.1399</td> <td>    0.068</td> <td>   -2.060</td> <td> 0.040</td> <td>   -0.273</td> <td>   -0.007</td>\n",
       "</tr>\n",
       "<tr>\n",
       "  <th>Neighborhood_SawyerW</th> <td>   -0.1222</td> <td>    0.065</td> <td>   -1.868</td> <td> 0.062</td> <td>   -0.251</td> <td>    0.006</td>\n",
       "</tr>\n",
       "<tr>\n",
       "  <th>Neighborhood_Somerst</th> <td>   -0.0688</td> <td>    0.075</td> <td>   -0.922</td> <td> 0.357</td> <td>   -0.215</td> <td>    0.078</td>\n",
       "</tr>\n",
       "<tr>\n",
       "  <th>Neighborhood_StoneBr</th> <td>    0.2264</td> <td>    0.069</td> <td>    3.257</td> <td> 0.001</td> <td>    0.090</td> <td>    0.363</td>\n",
       "</tr>\n",
       "<tr>\n",
       "  <th>Neighborhood_Timber</th>  <td>   -0.0681</td> <td>    0.067</td> <td>   -1.011</td> <td> 0.313</td> <td>   -0.201</td> <td>    0.064</td>\n",
       "</tr>\n",
       "<tr>\n",
       "  <th>Neighborhood_Veenker</th> <td>   -0.1037</td> <td>    0.091</td> <td>   -1.136</td> <td> 0.256</td> <td>   -0.283</td> <td>    0.075</td>\n",
       "</tr>\n",
       "<tr>\n",
       "  <th>BldgType_2fmCon</th>      <td>   -0.0299</td> <td>    0.060</td> <td>   -0.494</td> <td> 0.621</td> <td>   -0.149</td> <td>    0.089</td>\n",
       "</tr>\n",
       "<tr>\n",
       "  <th>BldgType_Duplex</th>      <td>   -0.0088</td> <td>    0.057</td> <td>   -0.155</td> <td> 0.877</td> <td>   -0.121</td> <td>    0.103</td>\n",
       "</tr>\n",
       "<tr>\n",
       "  <th>BldgType_Twnhs</th>       <td>   -0.0487</td> <td>    0.066</td> <td>   -0.738</td> <td> 0.461</td> <td>   -0.178</td> <td>    0.081</td>\n",
       "</tr>\n",
       "<tr>\n",
       "  <th>BldgType_TwnhsE</th>      <td>   -0.0206</td> <td>    0.057</td> <td>   -0.361</td> <td> 0.718</td> <td>   -0.133</td> <td>    0.091</td>\n",
       "</tr>\n",
       "<tr>\n",
       "  <th>HouseStyle_1.5Unf</th>    <td>    0.1421</td> <td>    0.086</td> <td>    1.650</td> <td> 0.099</td> <td>   -0.027</td> <td>    0.311</td>\n",
       "</tr>\n",
       "<tr>\n",
       "  <th>HouseStyle_1Story</th>    <td>   -0.0433</td> <td>    0.055</td> <td>   -0.792</td> <td> 0.428</td> <td>   -0.151</td> <td>    0.064</td>\n",
       "</tr>\n",
       "<tr>\n",
       "  <th>HouseStyle_2.5Fin</th>    <td>    0.0397</td> <td>    0.105</td> <td>    0.378</td> <td> 0.705</td> <td>   -0.166</td> <td>    0.246</td>\n",
       "</tr>\n",
       "<tr>\n",
       "  <th>HouseStyle_2.5Unf</th>    <td>    0.0275</td> <td>    0.079</td> <td>    0.348</td> <td> 0.728</td> <td>   -0.128</td> <td>    0.183</td>\n",
       "</tr>\n",
       "<tr>\n",
       "  <th>HouseStyle_2Story</th>    <td>   -0.0302</td> <td>    0.028</td> <td>   -1.079</td> <td> 0.281</td> <td>   -0.085</td> <td>    0.025</td>\n",
       "</tr>\n",
       "<tr>\n",
       "  <th>HouseStyle_SFoyer</th>    <td>    0.0367</td> <td>    0.063</td> <td>    0.578</td> <td> 0.563</td> <td>   -0.088</td> <td>    0.161</td>\n",
       "</tr>\n",
       "<tr>\n",
       "  <th>HouseStyle_SLvl</th>      <td>   -0.0254</td> <td>    0.051</td> <td>   -0.495</td> <td> 0.621</td> <td>   -0.126</td> <td>    0.075</td>\n",
       "</tr>\n",
       "<tr>\n",
       "  <th>RoofStyle_Gable</th>      <td>   -0.0040</td> <td>    0.138</td> <td>   -0.029</td> <td> 0.977</td> <td>   -0.274</td> <td>    0.266</td>\n",
       "</tr>\n",
       "<tr>\n",
       "  <th>RoofStyle_Gambrel</th>    <td>    0.1211</td> <td>    0.161</td> <td>    0.752</td> <td> 0.452</td> <td>   -0.195</td> <td>    0.437</td>\n",
       "</tr>\n",
       "<tr>\n",
       "  <th>RoofStyle_Hip</th>        <td>    0.0085</td> <td>    0.139</td> <td>    0.061</td> <td> 0.951</td> <td>   -0.264</td> <td>    0.281</td>\n",
       "</tr>\n",
       "<tr>\n",
       "  <th>RoofStyle_Mansard</th>    <td>    0.0674</td> <td>    0.167</td> <td>    0.403</td> <td> 0.687</td> <td>   -0.261</td> <td>    0.396</td>\n",
       "</tr>\n",
       "<tr>\n",
       "  <th>RoofStyle_Shed</th>       <td>    0.5440</td> <td>    0.273</td> <td>    1.989</td> <td> 0.047</td> <td>    0.007</td> <td>    1.081</td>\n",
       "</tr>\n",
       "<tr>\n",
       "  <th>RoofMatl_CompShg</th>     <td>    2.2532</td> <td>    0.211</td> <td>   10.657</td> <td> 0.000</td> <td>    1.838</td> <td>    2.668</td>\n",
       "</tr>\n",
       "<tr>\n",
       "  <th>RoofMatl_Membran</th>     <td> -5.62e-15</td> <td> 1.68e-15</td> <td>   -3.349</td> <td> 0.001</td> <td>-8.91e-15</td> <td>-2.33e-15</td>\n",
       "</tr>\n",
       "<tr>\n",
       "  <th>RoofMatl_Metal</th>       <td>    2.5512</td> <td>    0.314</td> <td>    8.116</td> <td> 0.000</td> <td>    1.934</td> <td>    3.168</td>\n",
       "</tr>\n",
       "<tr>\n",
       "  <th>RoofMatl_Roll</th>        <td>    2.2134</td> <td>    0.276</td> <td>    8.029</td> <td> 0.000</td> <td>    1.672</td> <td>    2.754</td>\n",
       "</tr>\n",
       "<tr>\n",
       "  <th>RoofMatl_Tar&Grv</th>     <td>    2.2997</td> <td>    0.249</td> <td>    9.250</td> <td> 0.000</td> <td>    1.812</td> <td>    2.788</td>\n",
       "</tr>\n",
       "<tr>\n",
       "  <th>RoofMatl_WdShake</th>     <td>    2.2106</td> <td>    0.263</td> <td>    8.404</td> <td> 0.000</td> <td>    1.694</td> <td>    2.727</td>\n",
       "</tr>\n",
       "<tr>\n",
       "  <th>RoofMatl_WdShngl</th>     <td>    2.5578</td> <td>    0.226</td> <td>   11.339</td> <td> 0.000</td> <td>    2.115</td> <td>    3.001</td>\n",
       "</tr>\n",
       "<tr>\n",
       "  <th>Exterior1st_AsphShn</th>  <td>   -0.0802</td> <td>    0.239</td> <td>   -0.335</td> <td> 0.738</td> <td>   -0.550</td> <td>    0.390</td>\n",
       "</tr>\n",
       "<tr>\n",
       "  <th>Exterior1st_BrkComm</th>  <td>   -0.2858</td> <td>    0.252</td> <td>   -1.133</td> <td> 0.258</td> <td>   -0.781</td> <td>    0.209</td>\n",
       "</tr>\n",
       "<tr>\n",
       "  <th>Exterior1st_BrkFace</th>  <td>    0.1395</td> <td>    0.095</td> <td>    1.470</td> <td> 0.142</td> <td>   -0.047</td> <td>    0.326</td>\n",
       "</tr>\n",
       "<tr>\n",
       "  <th>Exterior1st_CBlock</th>   <td>   -0.0932</td> <td>    0.095</td> <td>   -0.977</td> <td> 0.329</td> <td>   -0.280</td> <td>    0.094</td>\n",
       "</tr>\n",
       "<tr>\n",
       "  <th>Exterior1st_CemntBd</th>  <td>   -0.1252</td> <td>    0.138</td> <td>   -0.907</td> <td> 0.365</td> <td>   -0.396</td> <td>    0.146</td>\n",
       "</tr>\n",
       "<tr>\n",
       "  <th>Exterior1st_HdBoard</th>  <td>   -0.0555</td> <td>    0.095</td> <td>   -0.587</td> <td> 0.557</td> <td>   -0.241</td> <td>    0.130</td>\n",
       "</tr>\n",
       "<tr>\n",
       "  <th>Exterior1st_ImStucc</th>  <td>   -0.2194</td> <td>    0.201</td> <td>   -1.091</td> <td> 0.275</td> <td>   -0.614</td> <td>    0.175</td>\n",
       "</tr>\n",
       "<tr>\n",
       "  <th>Exterior1st_MetalSd</th>  <td>   -0.0183</td> <td>    0.117</td> <td>   -0.157</td> <td> 0.875</td> <td>   -0.247</td> <td>    0.211</td>\n",
       "</tr>\n",
       "<tr>\n",
       "  <th>Exterior1st_Plywood</th>  <td>   -0.0016</td> <td>    0.093</td> <td>   -0.017</td> <td> 0.986</td> <td>   -0.184</td> <td>    0.181</td>\n",
       "</tr>\n",
       "<tr>\n",
       "  <th>Exterior1st_Stone</th>    <td>   -0.1105</td> <td>    0.225</td> <td>   -0.491</td> <td> 0.623</td> <td>   -0.552</td> <td>    0.331</td>\n",
       "</tr>\n",
       "<tr>\n",
       "  <th>Exterior1st_Stucco</th>   <td>   -0.0432</td> <td>    0.104</td> <td>   -0.416</td> <td> 0.677</td> <td>   -0.247</td> <td>    0.161</td>\n",
       "</tr>\n",
       "<tr>\n",
       "  <th>Exterior1st_VinylSd</th>  <td>   -0.0075</td> <td>    0.103</td> <td>   -0.073</td> <td> 0.942</td> <td>   -0.209</td> <td>    0.194</td>\n",
       "</tr>\n",
       "<tr>\n",
       "  <th>Exterior1st_Wd Sdng</th>  <td>   -0.0602</td> <td>    0.095</td> <td>   -0.635</td> <td> 0.525</td> <td>   -0.246</td> <td>    0.126</td>\n",
       "</tr>\n",
       "<tr>\n",
       "  <th>Exterior1st_WdShing</th>  <td>   -0.0233</td> <td>    0.100</td> <td>   -0.234</td> <td> 0.815</td> <td>   -0.220</td> <td>    0.173</td>\n",
       "</tr>\n",
       "<tr>\n",
       "  <th>Exterior2nd_AsphShn</th>  <td>    0.0135</td> <td>    0.169</td> <td>    0.080</td> <td> 0.936</td> <td>   -0.318</td> <td>    0.345</td>\n",
       "</tr>\n",
       "<tr>\n",
       "  <th>Exterior2nd_Brk Cmn</th>  <td>    0.0963</td> <td>    0.215</td> <td>    0.448</td> <td> 0.654</td> <td>   -0.326</td> <td>    0.518</td>\n",
       "</tr>\n",
       "<tr>\n",
       "  <th>Exterior2nd_BrkFace</th>  <td>    0.0008</td> <td>    0.102</td> <td>    0.008</td> <td> 0.994</td> <td>   -0.200</td> <td>    0.202</td>\n",
       "</tr>\n",
       "<tr>\n",
       "  <th>Exterior2nd_CBlock</th>   <td>   -0.0932</td> <td>    0.095</td> <td>   -0.977</td> <td> 0.329</td> <td>   -0.280</td> <td>    0.094</td>\n",
       "</tr>\n",
       "<tr>\n",
       "  <th>Exterior2nd_CmentBd</th>  <td>    0.1471</td> <td>    0.139</td> <td>    1.056</td> <td> 0.291</td> <td>   -0.126</td> <td>    0.421</td>\n",
       "</tr>\n",
       "<tr>\n",
       "  <th>Exterior2nd_HdBoard</th>  <td>    0.0593</td> <td>    0.095</td> <td>    0.622</td> <td> 0.534</td> <td>   -0.128</td> <td>    0.246</td>\n",
       "</tr>\n",
       "<tr>\n",
       "  <th>Exterior2nd_ImStucc</th>  <td>    0.1189</td> <td>    0.117</td> <td>    1.017</td> <td> 0.310</td> <td>   -0.111</td> <td>    0.348</td>\n",
       "</tr>\n",
       "<tr>\n",
       "  <th>Exterior2nd_MetalSd</th>  <td>    0.0637</td> <td>    0.118</td> <td>    0.539</td> <td> 0.590</td> <td>   -0.168</td> <td>    0.295</td>\n",
       "</tr>\n",
       "<tr>\n",
       "  <th>Exterior2nd_Other</th>    <td>   -0.1909</td> <td>    0.197</td> <td>   -0.967</td> <td> 0.334</td> <td>   -0.578</td> <td>    0.197</td>\n",
       "</tr>\n",
       "<tr>\n",
       "  <th>Exterior2nd_Plywood</th>  <td>    0.0388</td> <td>    0.092</td> <td>    0.421</td> <td> 0.674</td> <td>   -0.142</td> <td>    0.220</td>\n",
       "</tr>\n",
       "<tr>\n",
       "  <th>Exterior2nd_Stone</th>    <td>   -0.0243</td> <td>    0.129</td> <td>   -0.188</td> <td> 0.851</td> <td>   -0.278</td> <td>    0.230</td>\n",
       "</tr>\n",
       "<tr>\n",
       "  <th>Exterior2nd_Stucco</th>   <td>    0.0897</td> <td>    0.104</td> <td>    0.861</td> <td> 0.389</td> <td>   -0.115</td> <td>    0.294</td>\n",
       "</tr>\n",
       "<tr>\n",
       "  <th>Exterior2nd_VinylSd</th>  <td>    0.0268</td> <td>    0.102</td> <td>    0.264</td> <td> 0.792</td> <td>   -0.172</td> <td>    0.226</td>\n",
       "</tr>\n",
       "<tr>\n",
       "  <th>Exterior2nd_Wd Sdng</th>  <td>    0.0809</td> <td>    0.096</td> <td>    0.839</td> <td> 0.402</td> <td>   -0.108</td> <td>    0.270</td>\n",
       "</tr>\n",
       "<tr>\n",
       "  <th>Exterior2nd_Wd Shng</th>  <td>    0.0639</td> <td>    0.098</td> <td>    0.652</td> <td> 0.515</td> <td>   -0.129</td> <td>    0.257</td>\n",
       "</tr>\n",
       "<tr>\n",
       "  <th>MasVnrType_BrkFace</th>   <td>    0.0789</td> <td>    0.052</td> <td>    1.520</td> <td> 0.129</td> <td>   -0.023</td> <td>    0.181</td>\n",
       "</tr>\n",
       "<tr>\n",
       "  <th>MasVnrType_None</th>      <td>    0.0671</td> <td>    0.070</td> <td>    0.960</td> <td> 0.338</td> <td>   -0.070</td> <td>    0.204</td>\n",
       "</tr>\n",
       "<tr>\n",
       "  <th>MasVnrType_Stone</th>     <td>    0.1034</td> <td>    0.055</td> <td>    1.866</td> <td> 0.062</td> <td>   -0.005</td> <td>    0.212</td>\n",
       "</tr>\n",
       "<tr>\n",
       "  <th>Foundation_CBlock</th>    <td>    0.0427</td> <td>    0.027</td> <td>    1.586</td> <td> 0.113</td> <td>   -0.010</td> <td>    0.096</td>\n",
       "</tr>\n",
       "<tr>\n",
       "  <th>Foundation_PConc</th>     <td>    0.0521</td> <td>    0.029</td> <td>    1.775</td> <td> 0.076</td> <td>   -0.006</td> <td>    0.110</td>\n",
       "</tr>\n",
       "<tr>\n",
       "  <th>Foundation_Slab</th>      <td>    0.0280</td> <td>    0.083</td> <td>    0.340</td> <td> 0.734</td> <td>   -0.134</td> <td>    0.190</td>\n",
       "</tr>\n",
       "<tr>\n",
       "  <th>Foundation_Stone</th>     <td>    0.0376</td> <td>    0.176</td> <td>    0.214</td> <td> 0.831</td> <td>   -0.308</td> <td>    0.383</td>\n",
       "</tr>\n",
       "<tr>\n",
       "  <th>Foundation_Wood</th>      <td>   -0.0258</td> <td>    0.128</td> <td>   -0.201</td> <td> 0.840</td> <td>   -0.277</td> <td>    0.225</td>\n",
       "</tr>\n",
       "<tr>\n",
       "  <th>BsmtFinType1_BLQ</th>     <td>   -0.0298</td> <td>    0.024</td> <td>   -1.267</td> <td> 0.206</td> <td>   -0.076</td> <td>    0.016</td>\n",
       "</tr>\n",
       "<tr>\n",
       "  <th>BsmtFinType1_GLQ</th>     <td>    0.0042</td> <td>    0.021</td> <td>    0.199</td> <td> 0.842</td> <td>   -0.037</td> <td>    0.045</td>\n",
       "</tr>\n",
       "<tr>\n",
       "  <th>BsmtFinType1_LwQ</th>     <td>   -0.0565</td> <td>    0.033</td> <td>   -1.692</td> <td> 0.091</td> <td>   -0.122</td> <td>    0.009</td>\n",
       "</tr>\n",
       "<tr>\n",
       "  <th>BsmtFinType1_Rec</th>     <td>   -0.0570</td> <td>    0.025</td> <td>   -2.250</td> <td> 0.025</td> <td>   -0.107</td> <td>   -0.007</td>\n",
       "</tr>\n",
       "<tr>\n",
       "  <th>BsmtFinType1_Unf</th>     <td>    0.0576</td> <td>    0.059</td> <td>    0.971</td> <td> 0.332</td> <td>   -0.059</td> <td>    0.174</td>\n",
       "</tr>\n",
       "<tr>\n",
       "  <th>BsmtFinType2_BLQ</th>     <td>   -0.1078</td> <td>    0.060</td> <td>   -1.809</td> <td> 0.071</td> <td>   -0.225</td> <td>    0.009</td>\n",
       "</tr>\n",
       "<tr>\n",
       "  <th>BsmtFinType2_GLQ</th>     <td>   -0.0306</td> <td>    0.082</td> <td>   -0.374</td> <td> 0.709</td> <td>   -0.191</td> <td>    0.130</td>\n",
       "</tr>\n",
       "<tr>\n",
       "  <th>BsmtFinType2_LwQ</th>     <td>   -0.1261</td> <td>    0.059</td> <td>   -2.120</td> <td> 0.034</td> <td>   -0.243</td> <td>   -0.009</td>\n",
       "</tr>\n",
       "<tr>\n",
       "  <th>BsmtFinType2_Rec</th>     <td>   -0.0960</td> <td>    0.059</td> <td>   -1.628</td> <td> 0.104</td> <td>   -0.212</td> <td>    0.020</td>\n",
       "</tr>\n",
       "<tr>\n",
       "  <th>BsmtFinType2_Unf</th>     <td>   -0.0797</td> <td>    0.116</td> <td>   -0.685</td> <td> 0.493</td> <td>   -0.308</td> <td>    0.149</td>\n",
       "</tr>\n",
       "<tr>\n",
       "  <th>Heating_GasA</th>         <td>    0.1093</td> <td>    0.178</td> <td>    0.615</td> <td> 0.539</td> <td>   -0.240</td> <td>    0.458</td>\n",
       "</tr>\n",
       "<tr>\n",
       "  <th>Heating_GasW</th>         <td>    0.1552</td> <td>    0.189</td> <td>    0.819</td> <td> 0.413</td> <td>   -0.217</td> <td>    0.527</td>\n",
       "</tr>\n",
       "<tr>\n",
       "  <th>Heating_Grav</th>         <td>   -0.2538</td> <td>    0.197</td> <td>   -1.290</td> <td> 0.197</td> <td>   -0.640</td> <td>    0.132</td>\n",
       "</tr>\n",
       "<tr>\n",
       "  <th>Heating_OthW</th>         <td>    0.2494</td> <td>    0.257</td> <td>    0.972</td> <td> 0.331</td> <td>   -0.254</td> <td>    0.753</td>\n",
       "</tr>\n",
       "<tr>\n",
       "  <th>Heating_Wall</th>         <td>    0.2199</td> <td>    0.214</td> <td>    1.030</td> <td> 0.303</td> <td>   -0.199</td> <td>    0.639</td>\n",
       "</tr>\n",
       "<tr>\n",
       "  <th>CentralAir_Y</th>         <td>    0.0277</td> <td>    0.031</td> <td>    0.895</td> <td> 0.371</td> <td>   -0.033</td> <td>    0.088</td>\n",
       "</tr>\n",
       "<tr>\n",
       "  <th>Functional_Maj2</th>      <td>   -0.3557</td> <td>    0.097</td> <td>   -3.648</td> <td> 0.000</td> <td>   -0.547</td> <td>   -0.164</td>\n",
       "</tr>\n",
       "<tr>\n",
       "  <th>Functional_Min1</th>      <td>   -0.0414</td> <td>    0.064</td> <td>   -0.647</td> <td> 0.518</td> <td>   -0.167</td> <td>    0.084</td>\n",
       "</tr>\n",
       "<tr>\n",
       "  <th>Functional_Min2</th>      <td>    0.0044</td> <td>    0.064</td> <td>    0.069</td> <td> 0.945</td> <td>   -0.122</td> <td>    0.131</td>\n",
       "</tr>\n",
       "<tr>\n",
       "  <th>Functional_Mod</th>       <td>   -0.1312</td> <td>    0.080</td> <td>   -1.636</td> <td> 0.102</td> <td>   -0.289</td> <td>    0.026</td>\n",
       "</tr>\n",
       "<tr>\n",
       "  <th>Functional_Sev</th>       <td>   -0.5623</td> <td>    0.225</td> <td>   -2.502</td> <td> 0.013</td> <td>   -1.003</td> <td>   -0.121</td>\n",
       "</tr>\n",
       "<tr>\n",
       "  <th>Functional_Typ</th>       <td>    0.0768</td> <td>    0.054</td> <td>    1.419</td> <td> 0.156</td> <td>   -0.029</td> <td>    0.183</td>\n",
       "</tr>\n",
       "<tr>\n",
       "  <th>GarageType_Attchd</th>    <td>    0.0630</td> <td>    0.094</td> <td>    0.670</td> <td> 0.503</td> <td>   -0.122</td> <td>    0.248</td>\n",
       "</tr>\n",
       "<tr>\n",
       "  <th>GarageType_Basment</th>   <td>   -0.0032</td> <td>    0.110</td> <td>   -0.029</td> <td> 0.977</td> <td>   -0.218</td> <td>    0.212</td>\n",
       "</tr>\n",
       "<tr>\n",
       "  <th>GarageType_BuiltIn</th>   <td>    0.0596</td> <td>    0.097</td> <td>    0.612</td> <td> 0.541</td> <td>   -0.132</td> <td>    0.251</td>\n",
       "</tr>\n",
       "<tr>\n",
       "  <th>GarageType_CarPort</th>   <td>    0.0587</td> <td>    0.133</td> <td>    0.440</td> <td> 0.660</td> <td>   -0.203</td> <td>    0.321</td>\n",
       "</tr>\n",
       "<tr>\n",
       "  <th>GarageType_Detchd</th>    <td>    0.1010</td> <td>    0.094</td> <td>    1.073</td> <td> 0.283</td> <td>   -0.084</td> <td>    0.286</td>\n",
       "</tr>\n",
       "<tr>\n",
       "  <th>GarageFinish_RFn</th>     <td>   -0.0120</td> <td>    0.016</td> <td>   -0.733</td> <td> 0.464</td> <td>   -0.044</td> <td>    0.020</td>\n",
       "</tr>\n",
       "<tr>\n",
       "  <th>GarageFinish_Unf</th>     <td>   -0.0460</td> <td>    0.020</td> <td>   -2.305</td> <td> 0.021</td> <td>   -0.085</td> <td>   -0.007</td>\n",
       "</tr>\n",
       "<tr>\n",
       "  <th>SaleType_CWD</th>         <td>    0.1348</td> <td>    0.093</td> <td>    1.450</td> <td> 0.148</td> <td>   -0.048</td> <td>    0.317</td>\n",
       "</tr>\n",
       "<tr>\n",
       "  <th>SaleType_Con</th>         <td>    0.2953</td> <td>    0.182</td> <td>    1.626</td> <td> 0.104</td> <td>   -0.061</td> <td>    0.652</td>\n",
       "</tr>\n",
       "<tr>\n",
       "  <th>SaleType_ConLD</th>       <td>    0.3025</td> <td>    0.074</td> <td>    4.085</td> <td> 0.000</td> <td>    0.157</td> <td>    0.448</td>\n",
       "</tr>\n",
       "<tr>\n",
       "  <th>SaleType_ConLI</th>       <td>    0.0147</td> <td>    0.103</td> <td>    0.143</td> <td> 0.886</td> <td>   -0.187</td> <td>    0.216</td>\n",
       "</tr>\n",
       "<tr>\n",
       "  <th>SaleType_ConLw</th>       <td>    0.0594</td> <td>    0.127</td> <td>    0.467</td> <td> 0.641</td> <td>   -0.190</td> <td>    0.309</td>\n",
       "</tr>\n",
       "<tr>\n",
       "  <th>SaleType_New</th>         <td>    0.0895</td> <td>    0.040</td> <td>    2.235</td> <td> 0.026</td> <td>    0.011</td> <td>    0.168</td>\n",
       "</tr>\n",
       "<tr>\n",
       "  <th>SaleType_Oth</th>         <td>   -0.3288</td> <td>    0.173</td> <td>   -1.896</td> <td> 0.058</td> <td>   -0.669</td> <td>    0.012</td>\n",
       "</tr>\n",
       "<tr>\n",
       "  <th>SaleType_WD</th>          <td>    0.0348</td> <td>    0.033</td> <td>    1.043</td> <td> 0.297</td> <td>   -0.031</td> <td>    0.100</td>\n",
       "</tr>\n",
       "<tr>\n",
       "  <th>LandContour</th>          <td>    0.0311</td> <td>    0.031</td> <td>    1.013</td> <td> 0.311</td> <td>   -0.029</td> <td>    0.091</td>\n",
       "</tr>\n",
       "<tr>\n",
       "  <th>Condition1</th>           <td>    0.0916</td> <td>    0.027</td> <td>    3.375</td> <td> 0.001</td> <td>    0.038</td> <td>    0.145</td>\n",
       "</tr>\n",
       "<tr>\n",
       "  <th>Condition2</th>           <td>    0.4479</td> <td>    0.094</td> <td>    4.779</td> <td> 0.000</td> <td>    0.264</td> <td>    0.632</td>\n",
       "</tr>\n",
       "<tr>\n",
       "  <th>ExterQual</th>            <td>   -0.0594</td> <td>    0.038</td> <td>   -1.550</td> <td> 0.122</td> <td>   -0.135</td> <td>    0.016</td>\n",
       "</tr>\n",
       "<tr>\n",
       "  <th>ExterCond</th>            <td>   -0.0496</td> <td>    0.047</td> <td>   -1.060</td> <td> 0.289</td> <td>   -0.141</td> <td>    0.042</td>\n",
       "</tr>\n",
       "<tr>\n",
       "  <th>BsmtQual</th>             <td>   -0.0785</td> <td>    0.026</td> <td>   -3.008</td> <td> 0.003</td> <td>   -0.130</td> <td>   -0.027</td>\n",
       "</tr>\n",
       "<tr>\n",
       "  <th>BsmtCond</th>             <td>    0.0462</td> <td>    0.026</td> <td>    1.810</td> <td> 0.071</td> <td>   -0.004</td> <td>    0.096</td>\n",
       "</tr>\n",
       "<tr>\n",
       "  <th>BsmtExposure</th>         <td>   -0.0417</td> <td>    0.016</td> <td>   -2.648</td> <td> 0.008</td> <td>   -0.073</td> <td>   -0.011</td>\n",
       "</tr>\n",
       "<tr>\n",
       "  <th>HeatingQC</th>            <td>    0.0087</td> <td>    0.026</td> <td>    0.340</td> <td> 0.734</td> <td>   -0.042</td> <td>    0.059</td>\n",
       "</tr>\n",
       "<tr>\n",
       "  <th>KitchenQual</th>          <td>   -0.0578</td> <td>    0.025</td> <td>   -2.349</td> <td> 0.019</td> <td>   -0.106</td> <td>   -0.009</td>\n",
       "</tr>\n",
       "<tr>\n",
       "  <th>FireplaceQu</th>          <td>   -0.0142</td> <td>    0.024</td> <td>   -0.602</td> <td> 0.547</td> <td>   -0.060</td> <td>    0.032</td>\n",
       "</tr>\n",
       "<tr>\n",
       "  <th>GarageQual</th>           <td>   -0.0825</td> <td>    0.067</td> <td>   -1.239</td> <td> 0.216</td> <td>   -0.213</td> <td>    0.048</td>\n",
       "</tr>\n",
       "<tr>\n",
       "  <th>GarageCond</th>           <td>    0.0083</td> <td>    0.064</td> <td>    0.129</td> <td> 0.897</td> <td>   -0.118</td> <td>    0.135</td>\n",
       "</tr>\n",
       "<tr>\n",
       "  <th>SaleCondition</th>        <td>    0.0566</td> <td>    0.029</td> <td>    1.958</td> <td> 0.051</td> <td>   -0.000</td> <td>    0.113</td>\n",
       "</tr>\n",
       "</table>\n",
       "<table class=\"simpletable\">\n",
       "<tr>\n",
       "  <th>Omnibus:</th>       <td>245.521</td> <th>  Durbin-Watson:     </th> <td>   1.935</td>\n",
       "</tr>\n",
       "<tr>\n",
       "  <th>Prob(Omnibus):</th> <td> 0.000</td>  <th>  Jarque-Bera (JB):  </th> <td>1602.279</td>\n",
       "</tr>\n",
       "<tr>\n",
       "  <th>Skew:</th>          <td>-0.933</td>  <th>  Prob(JB):          </th> <td>    0.00</td>\n",
       "</tr>\n",
       "<tr>\n",
       "  <th>Kurtosis:</th>      <td> 8.844</td>  <th>  Cond. No.          </th> <td>1.03e+16</td>\n",
       "</tr>\n",
       "</table><br/><br/>Warnings:<br/>[1] Standard Errors assume that the covariance matrix of the errors is correctly specified.<br/>[2] The smallest eigenvalue is 6.45e-27. This might indicate that there are<br/>strong multicollinearity problems or that the design matrix is singular."
      ],
      "text/plain": [
       "<class 'statsmodels.iolib.summary.Summary'>\n",
       "\"\"\"\n",
       "                                 OLS Regression Results                                \n",
       "=======================================================================================\n",
       "Dep. Variable:              SalePrice   R-squared (uncentered):                   1.000\n",
       "Model:                            OLS   Adj. R-squared (uncentered):              1.000\n",
       "Method:                 Least Squares   F-statistic:                          6.694e+04\n",
       "Date:                Thu, 09 Apr 2020   Prob (F-statistic):                        0.00\n",
       "Time:                        18:18:18   Log-Likelihood:                          904.39\n",
       "No. Observations:                1022   AIC:                                     -1445.\n",
       "Df Residuals:                     840   BIC:                                     -547.6\n",
       "Df Model:                         182                                                  \n",
       "Covariance Type:            nonrobust                                                  \n",
       "========================================================================================\n",
       "                           coef    std err          t      P>|t|      [0.025      0.975]\n",
       "----------------------------------------------------------------------------------------\n",
       "MSSubClass              -0.0254      0.021     -1.188      0.235      -0.067       0.017\n",
       "LotFrontage              0.0044      0.020      0.217      0.828      -0.035       0.044\n",
       "LotArea                  0.0970      0.015      6.422      0.000       0.067       0.127\n",
       "OverallQual              0.2613      0.037      7.129      0.000       0.189       0.333\n",
       "OverallCond              0.2325      0.031      7.495      0.000       0.172       0.293\n",
       "YearBuilt                4.2345      0.829      5.107      0.000       2.607       5.862\n",
       "YearRemodAdd             1.9287      0.594      3.249      0.001       0.764       3.094\n",
       "MasVnrArea               0.0010      0.006      0.155      0.877      -0.012       0.014\n",
       "BsmtFinSF1               0.0164      0.007      2.444      0.015       0.003       0.029\n",
       "BsmtFinSF2               0.0036      0.012      0.296      0.767      -0.020       0.027\n",
       "BsmtUnfSF               -0.0005      0.003     -0.140      0.889      -0.007       0.006\n",
       "TotalBsmtSF              0.0157      0.007      2.197      0.028       0.002       0.030\n",
       "1stFlrSF                 0.0559      0.058      0.967      0.334      -0.058       0.169\n",
       "2ndFlrSF                -0.0025      0.007     -0.338      0.735      -0.017       0.012\n",
       "LowQualFinSF            -0.0086      0.007     -1.160      0.247      -0.023       0.006\n",
       "GrLivArea                0.4249      0.069      6.160      0.000       0.290       0.560\n",
       "BsmtFullBath             0.0335      0.017      1.984      0.048       0.000       0.067\n",
       "BsmtHalfBath            -0.0011      0.026     -0.044      0.965      -0.051       0.049\n",
       "FullBath                -0.0089      0.033     -0.272      0.785      -0.073       0.055\n",
       "HalfBath                 0.0118      0.018      0.645      0.519      -0.024       0.048\n",
       "BedroomAbvGr            -0.0321      0.028     -1.146      0.252      -0.087       0.023\n",
       "KitchenAbvGr            -0.1073      0.074     -1.460      0.145      -0.252       0.037\n",
       "TotRmsAbvGrd             0.0325      0.040      0.808      0.419      -0.046       0.111\n",
       "Fireplaces               0.0223      0.014      1.633      0.103      -0.004       0.049\n",
       "GarageYrBlt              0.3476      0.612      0.568      0.570      -0.853       1.549\n",
       "GarageCars               0.1228      0.032      3.792      0.000       0.059       0.186\n",
       "GarageArea              -0.0098      0.007     -1.423      0.155      -0.023       0.004\n",
       "WoodDeckSF               0.0034      0.002      2.087      0.037       0.000       0.007\n",
       "OpenPorchSF              0.0026      0.002      1.161      0.246      -0.002       0.007\n",
       "EnclosedPorch            0.0034      0.003      1.280      0.201      -0.002       0.009\n",
       "3SsnPorch                0.0023      0.005      0.425      0.671      -0.008       0.013\n",
       "ScreenPorch              0.0083      0.003      2.781      0.006       0.002       0.014\n",
       "PoolArea                 0.0252      0.009      2.731      0.006       0.007       0.043\n",
       "MiscVal                 -0.0038      0.003     -1.156      0.248      -0.010       0.003\n",
       "MoSold                  -0.0078      0.009     -0.864      0.388      -0.026       0.010\n",
       "YrSold                  -6.0351      0.974     -6.197      0.000      -7.947      -4.124\n",
       "MSZoning_FV              0.8341      0.120      6.970      0.000       0.599       1.069\n",
       "MSZoning_RH              0.7698      0.118      6.503      0.000       0.537       1.002\n",
       "MSZoning_RL              0.7268      0.106      6.879      0.000       0.519       0.934\n",
       "MSZoning_RM              0.6810      0.102      6.684      0.000       0.481       0.881\n",
       "Street_Pave              0.0361      0.095      0.381      0.703      -0.150       0.222\n",
       "LotShape_IR2             0.0375      0.036      1.049      0.294      -0.033       0.108\n",
       "LotShape_IR3             0.0193      0.072      0.266      0.790      -0.123       0.161\n",
       "LotShape_Reg             0.0041      0.013      0.307      0.759      -0.022       0.030\n",
       "Utilities_NoSeWa     -1.816e-14   5.67e-15     -3.204      0.001   -2.93e-14   -7.03e-15\n",
       "LotConfig_CulDSac        0.0332      0.029      1.154      0.249      -0.023       0.090\n",
       "LotConfig_FR2           -0.0625      0.032     -1.935      0.053      -0.126       0.001\n",
       "LotConfig_FR3           -0.1104      0.086     -1.285      0.199      -0.279       0.058\n",
       "LotConfig_Inside        -0.0132      0.015     -0.887      0.376      -0.042       0.016\n",
       "LandSlope_Mod            0.0403      0.035      1.167      0.244      -0.027       0.108\n",
       "LandSlope_Sev           -0.1608      0.073     -2.205      0.028      -0.304      -0.018\n",
       "Neighborhood_Blueste -2.338e-14   3.23e-15     -7.243      0.000   -2.97e-14    -1.7e-14\n",
       "Neighborhood_BrDale     -0.0097      0.094     -0.104      0.917      -0.194       0.174\n",
       "Neighborhood_BrkSide    -0.0245      0.079     -0.312      0.755      -0.179       0.130\n",
       "Neighborhood_ClearCr    -0.0566      0.079     -0.719      0.472      -0.211       0.098\n",
       "Neighborhood_CollgCr    -0.0984      0.061     -1.604      0.109      -0.219       0.022\n",
       "Neighborhood_Crawfor     0.0796      0.072      1.102      0.271      -0.062       0.222\n",
       "Neighborhood_Edwards    -0.2004      0.068     -2.964      0.003      -0.333      -0.068\n",
       "Neighborhood_Gilbert    -0.1185      0.065     -1.825      0.068      -0.246       0.009\n",
       "Neighborhood_IDOTRR     -0.1051      0.090     -1.163      0.245      -0.282       0.072\n",
       "Neighborhood_MeadowV    -0.1318      0.092     -1.430      0.153      -0.313       0.049\n",
       "Neighborhood_Mitchel    -0.1717      0.069     -2.501      0.013      -0.306      -0.037\n",
       "Neighborhood_NAmes      -0.1199      0.066     -1.825      0.068      -0.249       0.009\n",
       "Neighborhood_NPkVill     0.0045      0.114      0.039      0.969      -0.219       0.228\n",
       "Neighborhood_NWAmes     -0.1472      0.067     -2.185      0.029      -0.279      -0.015\n",
       "Neighborhood_NoRidge     0.1007      0.071      1.411      0.159      -0.039       0.241\n",
       "Neighborhood_NridgHt     0.1398      0.064      2.200      0.028       0.015       0.264\n",
       "Neighborhood_OldTown    -0.1678      0.080     -2.094      0.037      -0.325      -0.010\n",
       "Neighborhood_SWISU      -0.0652      0.083     -0.788      0.431      -0.228       0.097\n",
       "Neighborhood_Sawyer     -0.1399      0.068     -2.060      0.040      -0.273      -0.007\n",
       "Neighborhood_SawyerW    -0.1222      0.065     -1.868      0.062      -0.251       0.006\n",
       "Neighborhood_Somerst    -0.0688      0.075     -0.922      0.357      -0.215       0.078\n",
       "Neighborhood_StoneBr     0.2264      0.069      3.257      0.001       0.090       0.363\n",
       "Neighborhood_Timber     -0.0681      0.067     -1.011      0.313      -0.201       0.064\n",
       "Neighborhood_Veenker    -0.1037      0.091     -1.136      0.256      -0.283       0.075\n",
       "BldgType_2fmCon         -0.0299      0.060     -0.494      0.621      -0.149       0.089\n",
       "BldgType_Duplex         -0.0088      0.057     -0.155      0.877      -0.121       0.103\n",
       "BldgType_Twnhs          -0.0487      0.066     -0.738      0.461      -0.178       0.081\n",
       "BldgType_TwnhsE         -0.0206      0.057     -0.361      0.718      -0.133       0.091\n",
       "HouseStyle_1.5Unf        0.1421      0.086      1.650      0.099      -0.027       0.311\n",
       "HouseStyle_1Story       -0.0433      0.055     -0.792      0.428      -0.151       0.064\n",
       "HouseStyle_2.5Fin        0.0397      0.105      0.378      0.705      -0.166       0.246\n",
       "HouseStyle_2.5Unf        0.0275      0.079      0.348      0.728      -0.128       0.183\n",
       "HouseStyle_2Story       -0.0302      0.028     -1.079      0.281      -0.085       0.025\n",
       "HouseStyle_SFoyer        0.0367      0.063      0.578      0.563      -0.088       0.161\n",
       "HouseStyle_SLvl         -0.0254      0.051     -0.495      0.621      -0.126       0.075\n",
       "RoofStyle_Gable         -0.0040      0.138     -0.029      0.977      -0.274       0.266\n",
       "RoofStyle_Gambrel        0.1211      0.161      0.752      0.452      -0.195       0.437\n",
       "RoofStyle_Hip            0.0085      0.139      0.061      0.951      -0.264       0.281\n",
       "RoofStyle_Mansard        0.0674      0.167      0.403      0.687      -0.261       0.396\n",
       "RoofStyle_Shed           0.5440      0.273      1.989      0.047       0.007       1.081\n",
       "RoofMatl_CompShg         2.2532      0.211     10.657      0.000       1.838       2.668\n",
       "RoofMatl_Membran      -5.62e-15   1.68e-15     -3.349      0.001   -8.91e-15   -2.33e-15\n",
       "RoofMatl_Metal           2.5512      0.314      8.116      0.000       1.934       3.168\n",
       "RoofMatl_Roll            2.2134      0.276      8.029      0.000       1.672       2.754\n",
       "RoofMatl_Tar&Grv         2.2997      0.249      9.250      0.000       1.812       2.788\n",
       "RoofMatl_WdShake         2.2106      0.263      8.404      0.000       1.694       2.727\n",
       "RoofMatl_WdShngl         2.5578      0.226     11.339      0.000       2.115       3.001\n",
       "Exterior1st_AsphShn     -0.0802      0.239     -0.335      0.738      -0.550       0.390\n",
       "Exterior1st_BrkComm     -0.2858      0.252     -1.133      0.258      -0.781       0.209\n",
       "Exterior1st_BrkFace      0.1395      0.095      1.470      0.142      -0.047       0.326\n",
       "Exterior1st_CBlock      -0.0932      0.095     -0.977      0.329      -0.280       0.094\n",
       "Exterior1st_CemntBd     -0.1252      0.138     -0.907      0.365      -0.396       0.146\n",
       "Exterior1st_HdBoard     -0.0555      0.095     -0.587      0.557      -0.241       0.130\n",
       "Exterior1st_ImStucc     -0.2194      0.201     -1.091      0.275      -0.614       0.175\n",
       "Exterior1st_MetalSd     -0.0183      0.117     -0.157      0.875      -0.247       0.211\n",
       "Exterior1st_Plywood     -0.0016      0.093     -0.017      0.986      -0.184       0.181\n",
       "Exterior1st_Stone       -0.1105      0.225     -0.491      0.623      -0.552       0.331\n",
       "Exterior1st_Stucco      -0.0432      0.104     -0.416      0.677      -0.247       0.161\n",
       "Exterior1st_VinylSd     -0.0075      0.103     -0.073      0.942      -0.209       0.194\n",
       "Exterior1st_Wd Sdng     -0.0602      0.095     -0.635      0.525      -0.246       0.126\n",
       "Exterior1st_WdShing     -0.0233      0.100     -0.234      0.815      -0.220       0.173\n",
       "Exterior2nd_AsphShn      0.0135      0.169      0.080      0.936      -0.318       0.345\n",
       "Exterior2nd_Brk Cmn      0.0963      0.215      0.448      0.654      -0.326       0.518\n",
       "Exterior2nd_BrkFace      0.0008      0.102      0.008      0.994      -0.200       0.202\n",
       "Exterior2nd_CBlock      -0.0932      0.095     -0.977      0.329      -0.280       0.094\n",
       "Exterior2nd_CmentBd      0.1471      0.139      1.056      0.291      -0.126       0.421\n",
       "Exterior2nd_HdBoard      0.0593      0.095      0.622      0.534      -0.128       0.246\n",
       "Exterior2nd_ImStucc      0.1189      0.117      1.017      0.310      -0.111       0.348\n",
       "Exterior2nd_MetalSd      0.0637      0.118      0.539      0.590      -0.168       0.295\n",
       "Exterior2nd_Other       -0.1909      0.197     -0.967      0.334      -0.578       0.197\n",
       "Exterior2nd_Plywood      0.0388      0.092      0.421      0.674      -0.142       0.220\n",
       "Exterior2nd_Stone       -0.0243      0.129     -0.188      0.851      -0.278       0.230\n",
       "Exterior2nd_Stucco       0.0897      0.104      0.861      0.389      -0.115       0.294\n",
       "Exterior2nd_VinylSd      0.0268      0.102      0.264      0.792      -0.172       0.226\n",
       "Exterior2nd_Wd Sdng      0.0809      0.096      0.839      0.402      -0.108       0.270\n",
       "Exterior2nd_Wd Shng      0.0639      0.098      0.652      0.515      -0.129       0.257\n",
       "MasVnrType_BrkFace       0.0789      0.052      1.520      0.129      -0.023       0.181\n",
       "MasVnrType_None          0.0671      0.070      0.960      0.338      -0.070       0.204\n",
       "MasVnrType_Stone         0.1034      0.055      1.866      0.062      -0.005       0.212\n",
       "Foundation_CBlock        0.0427      0.027      1.586      0.113      -0.010       0.096\n",
       "Foundation_PConc         0.0521      0.029      1.775      0.076      -0.006       0.110\n",
       "Foundation_Slab          0.0280      0.083      0.340      0.734      -0.134       0.190\n",
       "Foundation_Stone         0.0376      0.176      0.214      0.831      -0.308       0.383\n",
       "Foundation_Wood         -0.0258      0.128     -0.201      0.840      -0.277       0.225\n",
       "BsmtFinType1_BLQ        -0.0298      0.024     -1.267      0.206      -0.076       0.016\n",
       "BsmtFinType1_GLQ         0.0042      0.021      0.199      0.842      -0.037       0.045\n",
       "BsmtFinType1_LwQ        -0.0565      0.033     -1.692      0.091      -0.122       0.009\n",
       "BsmtFinType1_Rec        -0.0570      0.025     -2.250      0.025      -0.107      -0.007\n",
       "BsmtFinType1_Unf         0.0576      0.059      0.971      0.332      -0.059       0.174\n",
       "BsmtFinType2_BLQ        -0.1078      0.060     -1.809      0.071      -0.225       0.009\n",
       "BsmtFinType2_GLQ        -0.0306      0.082     -0.374      0.709      -0.191       0.130\n",
       "BsmtFinType2_LwQ        -0.1261      0.059     -2.120      0.034      -0.243      -0.009\n",
       "BsmtFinType2_Rec        -0.0960      0.059     -1.628      0.104      -0.212       0.020\n",
       "BsmtFinType2_Unf        -0.0797      0.116     -0.685      0.493      -0.308       0.149\n",
       "Heating_GasA             0.1093      0.178      0.615      0.539      -0.240       0.458\n",
       "Heating_GasW             0.1552      0.189      0.819      0.413      -0.217       0.527\n",
       "Heating_Grav            -0.2538      0.197     -1.290      0.197      -0.640       0.132\n",
       "Heating_OthW             0.2494      0.257      0.972      0.331      -0.254       0.753\n",
       "Heating_Wall             0.2199      0.214      1.030      0.303      -0.199       0.639\n",
       "CentralAir_Y             0.0277      0.031      0.895      0.371      -0.033       0.088\n",
       "Functional_Maj2         -0.3557      0.097     -3.648      0.000      -0.547      -0.164\n",
       "Functional_Min1         -0.0414      0.064     -0.647      0.518      -0.167       0.084\n",
       "Functional_Min2          0.0044      0.064      0.069      0.945      -0.122       0.131\n",
       "Functional_Mod          -0.1312      0.080     -1.636      0.102      -0.289       0.026\n",
       "Functional_Sev          -0.5623      0.225     -2.502      0.013      -1.003      -0.121\n",
       "Functional_Typ           0.0768      0.054      1.419      0.156      -0.029       0.183\n",
       "GarageType_Attchd        0.0630      0.094      0.670      0.503      -0.122       0.248\n",
       "GarageType_Basment      -0.0032      0.110     -0.029      0.977      -0.218       0.212\n",
       "GarageType_BuiltIn       0.0596      0.097      0.612      0.541      -0.132       0.251\n",
       "GarageType_CarPort       0.0587      0.133      0.440      0.660      -0.203       0.321\n",
       "GarageType_Detchd        0.1010      0.094      1.073      0.283      -0.084       0.286\n",
       "GarageFinish_RFn        -0.0120      0.016     -0.733      0.464      -0.044       0.020\n",
       "GarageFinish_Unf        -0.0460      0.020     -2.305      0.021      -0.085      -0.007\n",
       "SaleType_CWD             0.1348      0.093      1.450      0.148      -0.048       0.317\n",
       "SaleType_Con             0.2953      0.182      1.626      0.104      -0.061       0.652\n",
       "SaleType_ConLD           0.3025      0.074      4.085      0.000       0.157       0.448\n",
       "SaleType_ConLI           0.0147      0.103      0.143      0.886      -0.187       0.216\n",
       "SaleType_ConLw           0.0594      0.127      0.467      0.641      -0.190       0.309\n",
       "SaleType_New             0.0895      0.040      2.235      0.026       0.011       0.168\n",
       "SaleType_Oth            -0.3288      0.173     -1.896      0.058      -0.669       0.012\n",
       "SaleType_WD              0.0348      0.033      1.043      0.297      -0.031       0.100\n",
       "LandContour              0.0311      0.031      1.013      0.311      -0.029       0.091\n",
       "Condition1               0.0916      0.027      3.375      0.001       0.038       0.145\n",
       "Condition2               0.4479      0.094      4.779      0.000       0.264       0.632\n",
       "ExterQual               -0.0594      0.038     -1.550      0.122      -0.135       0.016\n",
       "ExterCond               -0.0496      0.047     -1.060      0.289      -0.141       0.042\n",
       "BsmtQual                -0.0785      0.026     -3.008      0.003      -0.130      -0.027\n",
       "BsmtCond                 0.0462      0.026      1.810      0.071      -0.004       0.096\n",
       "BsmtExposure            -0.0417      0.016     -2.648      0.008      -0.073      -0.011\n",
       "HeatingQC                0.0087      0.026      0.340      0.734      -0.042       0.059\n",
       "KitchenQual             -0.0578      0.025     -2.349      0.019      -0.106      -0.009\n",
       "FireplaceQu             -0.0142      0.024     -0.602      0.547      -0.060       0.032\n",
       "GarageQual              -0.0825      0.067     -1.239      0.216      -0.213       0.048\n",
       "GarageCond               0.0083      0.064      0.129      0.897      -0.118       0.135\n",
       "SaleCondition            0.0566      0.029      1.958      0.051      -0.000       0.113\n",
       "==============================================================================\n",
       "Omnibus:                      245.521   Durbin-Watson:                   1.935\n",
       "Prob(Omnibus):                  0.000   Jarque-Bera (JB):             1602.279\n",
       "Skew:                          -0.933   Prob(JB):                         0.00\n",
       "Kurtosis:                       8.844   Cond. No.                     1.03e+16\n",
       "==============================================================================\n",
       "\n",
       "Warnings:\n",
       "[1] Standard Errors assume that the covariance matrix of the errors is correctly specified.\n",
       "[2] The smallest eigenvalue is 6.45e-27. This might indicate that there are\n",
       "strong multicollinearity problems or that the design matrix is singular.\n",
       "\"\"\""
      ]
     },
     "execution_count": 54,
     "metadata": {},
     "output_type": "execute_result"
    }
   ],
   "source": [
    "model2.summary()"
   ]
  },
  {
   "cell_type": "markdown",
   "metadata": {},
   "source": [
    "## Linear Regression Model"
   ]
  },
  {
   "cell_type": "code",
   "execution_count": 256,
   "metadata": {},
   "outputs": [],
   "source": [
    "from sklearn.linear_model import LinearRegression"
   ]
  },
  {
   "cell_type": "code",
   "execution_count": 257,
   "metadata": {},
   "outputs": [],
   "source": [
    "lr = LinearRegression(copy_X=True, fit_intercept=True, n_jobs=0, normalize=False)"
   ]
  },
  {
   "cell_type": "code",
   "execution_count": 258,
   "metadata": {},
   "outputs": [],
   "source": [
    "LR =lr.fit(x_traindf,y_traindf)"
   ]
  },
  {
   "cell_type": "code",
   "execution_count": 259,
   "metadata": {},
   "outputs": [],
   "source": [
    "LR_Pred = lr.predict(x_testdf)"
   ]
  },
  {
   "cell_type": "code",
   "execution_count": 260,
   "metadata": {},
   "outputs": [
    {
     "data": {
      "text/plain": [
       "0.15970886404093895"
      ]
     },
     "execution_count": 260,
     "metadata": {},
     "output_type": "execute_result"
    }
   ],
   "source": [
    "from sklearn import metrics\n",
    "LR_RMSE = np.sqrt(metrics.mean_squared_error(y_testdf,LR_Pred))\n",
    "LR_RMSE"
   ]
  },
  {
   "cell_type": "code",
   "execution_count": 261,
   "metadata": {},
   "outputs": [
    {
     "data": {
      "text/plain": [
       "0.8211985961936773"
      ]
     },
     "execution_count": 261,
     "metadata": {},
     "output_type": "execute_result"
    }
   ],
   "source": [
    "from sklearn.metrics import r2_score\n",
    "LR_r2_score = r2_score(y_testdf,LR_Pred)\n",
    "LR_r2_score"
   ]
  },
  {
   "cell_type": "code",
   "execution_count": 262,
   "metadata": {},
   "outputs": [
    {
     "data": {
      "text/plain": [
       "0.025506921253247127"
      ]
     },
     "execution_count": 262,
     "metadata": {},
     "output_type": "execute_result"
    }
   ],
   "source": [
    "from sklearn import metrics\n",
    "LR_MSE = (metrics.mean_squared_error(y_testdf,LR_Pred))\n",
    "LR_MSE"
   ]
  },
  {
   "cell_type": "code",
   "execution_count": 339,
   "metadata": {},
   "outputs": [
    {
     "data": {
      "text/plain": [
       "0.09071310314007883"
      ]
     },
     "execution_count": 339,
     "metadata": {},
     "output_type": "execute_result"
    }
   ],
   "source": [
    "from sklearn import metrics\n",
    "LR_MAE=(metrics.mean_absolute_error(y_testdf, LR_Pred))\n",
    "LR_MAE"
   ]
  },
  {
   "cell_type": "markdown",
   "metadata": {},
   "source": [
    "## Random Forest Model"
   ]
  },
  {
   "cell_type": "code",
   "execution_count": 263,
   "metadata": {},
   "outputs": [],
   "source": [
    "from sklearn.ensemble import RandomForestRegressor"
   ]
  },
  {
   "cell_type": "code",
   "execution_count": 264,
   "metadata": {},
   "outputs": [],
   "source": [
    "regressor = RandomForestRegressor(n_estimators=100000,random_state=3)"
   ]
  },
  {
   "cell_type": "code",
   "execution_count": 194,
   "metadata": {},
   "outputs": [],
   "source": [
    "reg=regressor.fit(x_traindf,y_traindf)"
   ]
  },
  {
   "cell_type": "code",
   "execution_count": 198,
   "metadata": {},
   "outputs": [],
   "source": [
    "rf_y_pred=regressor.predict(x_testdf)"
   ]
  },
  {
   "cell_type": "code",
   "execution_count": 266,
   "metadata": {},
   "outputs": [
    {
     "data": {
      "text/plain": [
       "0.12978608680648088"
      ]
     },
     "execution_count": 266,
     "metadata": {},
     "output_type": "execute_result"
    }
   ],
   "source": [
    "from sklearn import metrics\n",
    "rf_RMSE = np.sqrt(metrics.mean_squared_error(y_testdf,rf_y_pred))\n",
    "rf_RMSE"
   ]
  },
  {
   "cell_type": "code",
   "execution_count": 265,
   "metadata": {},
   "outputs": [
    {
     "data": {
      "text/plain": [
       "0.8819219535923247"
      ]
     },
     "execution_count": 265,
     "metadata": {},
     "output_type": "execute_result"
    }
   ],
   "source": [
    "from sklearn.metrics import r2_score\n",
    "rf_r2_score = r2_score(y_testdf,rf_y_pred)\n",
    "rf_r2_score"
   ]
  },
  {
   "cell_type": "code",
   "execution_count": 340,
   "metadata": {},
   "outputs": [
    {
     "data": {
      "text/plain": [
       "0.0864125666727316"
      ]
     },
     "execution_count": 340,
     "metadata": {},
     "output_type": "execute_result"
    }
   ],
   "source": [
    "from sklearn import metrics\n",
    "rf_MAE=(metrics.mean_absolute_error(y_testdf, rf_y_pred))\n",
    "rf_MAE"
   ]
  },
  {
   "cell_type": "code",
   "execution_count": 267,
   "metadata": {},
   "outputs": [
    {
     "data": {
      "text/plain": [
       "0.016844428328539388"
      ]
     },
     "execution_count": 267,
     "metadata": {},
     "output_type": "execute_result"
    }
   ],
   "source": [
    "from sklearn import metrics\n",
    "rf_MSE = (metrics.mean_squared_error(y_testdf,rf_y_pred))\n",
    "rf_MSE"
   ]
  },
  {
   "cell_type": "markdown",
   "metadata": {},
   "source": [
    "## XGBoost Model"
   ]
  },
  {
   "cell_type": "code",
   "execution_count": 585,
   "metadata": {},
   "outputs": [],
   "source": [
    "from xgboost import XGBRegressor"
   ]
  },
  {
   "cell_type": "code",
   "execution_count": 271,
   "metadata": {},
   "outputs": [],
   "source": [
    "xg_reg =XGBRegressor(objective ='reg:linear', colsample_bytree = 0.3, learning_rate = 0.2, max_depth = 6, \n",
    "                          alpha = 7, n_estimators = 10000)"
   ]
  },
  {
   "cell_type": "code",
   "execution_count": 272,
   "metadata": {},
   "outputs": [
    {
     "name": "stdout",
     "output_type": "stream",
     "text": [
      "[20:46:28] WARNING: src/objective/regression_obj.cu:152: reg:linear is now deprecated in favor of reg:squarederror.\n"
     ]
    },
    {
     "data": {
      "text/plain": [
       "XGBRegressor(alpha=7, base_score=0.5, booster='gbtree', colsample_bylevel=1,\n",
       "             colsample_bynode=1, colsample_bytree=0.3, gamma=0,\n",
       "             importance_type='gain', learning_rate=0.2, max_delta_step=0,\n",
       "             max_depth=6, min_child_weight=1, missing=None, n_estimators=10000,\n",
       "             n_jobs=1, nthread=None, objective='reg:linear', random_state=0,\n",
       "             reg_alpha=0, reg_lambda=1, scale_pos_weight=1, seed=None,\n",
       "             silent=None, subsample=1, verbosity=1)"
      ]
     },
     "execution_count": 272,
     "metadata": {},
     "output_type": "execute_result"
    }
   ],
   "source": [
    "xg_reg.fit(x_traindf,y_traindf)"
   ]
  },
  {
   "cell_type": "code",
   "execution_count": 273,
   "metadata": {},
   "outputs": [],
   "source": [
    "preds = xg_reg.predict(x_testdf)"
   ]
  },
  {
   "cell_type": "code",
   "execution_count": 274,
   "metadata": {},
   "outputs": [
    {
     "data": {
      "text/plain": [
       "0.12997333346964643"
      ]
     },
     "execution_count": 274,
     "metadata": {},
     "output_type": "execute_result"
    }
   ],
   "source": [
    "from sklearn import metrics\n",
    "XGb_RMSE = np.sqrt(metrics.mean_squared_error(y_testdf,preds))\n",
    "XGb_RMSE"
   ]
  },
  {
   "cell_type": "code",
   "execution_count": 275,
   "metadata": {},
   "outputs": [
    {
     "data": {
      "text/plain": [
       "0.8815809976402929"
      ]
     },
     "execution_count": 275,
     "metadata": {},
     "output_type": "execute_result"
    }
   ],
   "source": [
    "from sklearn.metrics import r2_score\n",
    "XGb_r2_score = r2_score(y_testdf,preds)\n",
    "XGb_r2_score"
   ]
  },
  {
   "cell_type": "code",
   "execution_count": 276,
   "metadata": {},
   "outputs": [
    {
     "data": {
      "text/plain": [
       "0.016893067413211914"
      ]
     },
     "execution_count": 276,
     "metadata": {},
     "output_type": "execute_result"
    }
   ],
   "source": [
    "from sklearn import metrics\n",
    "XGb_MSE = (metrics.mean_squared_error(y_testdf,preds))\n",
    "XGb_MSE"
   ]
  },
  {
   "cell_type": "code",
   "execution_count": 341,
   "metadata": {},
   "outputs": [
    {
     "data": {
      "text/plain": [
       "0.08791613111399554"
      ]
     },
     "execution_count": 341,
     "metadata": {},
     "output_type": "execute_result"
    }
   ],
   "source": [
    "from sklearn import metrics\n",
    "XGb_MAE=(metrics.mean_absolute_error(y_testdf, preds))\n",
    "XGb_MAE"
   ]
  },
  {
   "cell_type": "markdown",
   "metadata": {},
   "source": [
    "## KNN Model"
   ]
  },
  {
   "cell_type": "code",
   "execution_count": 277,
   "metadata": {},
   "outputs": [],
   "source": [
    "from sklearn.neighbors import KNeighborsRegressor"
   ]
  },
  {
   "cell_type": "code",
   "execution_count": 278,
   "metadata": {},
   "outputs": [],
   "source": [
    "clf = KNeighborsRegressor(n_neighbors = 1,  weights = 'distance', p=1)"
   ]
  },
  {
   "cell_type": "code",
   "execution_count": 279,
   "metadata": {},
   "outputs": [
    {
     "data": {
      "text/plain": [
       "RandomForestRegressor(bootstrap=True, ccp_alpha=0.0, criterion='mse',\n",
       "                      max_depth=None, max_features='auto', max_leaf_nodes=None,\n",
       "                      max_samples=None, min_impurity_decrease=0.0,\n",
       "                      min_impurity_split=None, min_samples_leaf=1,\n",
       "                      min_samples_split=2, min_weight_fraction_leaf=0.0,\n",
       "                      n_estimators=10000, n_jobs=None, oob_score=False,\n",
       "                      random_state=3, verbose=0, warm_start=False)"
      ]
     },
     "execution_count": 279,
     "metadata": {},
     "output_type": "execute_result"
    }
   ],
   "source": [
    "reg.fit(x_traindf, y_traindf)"
   ]
  },
  {
   "cell_type": "code",
   "execution_count": 280,
   "metadata": {},
   "outputs": [],
   "source": [
    "KNN_pred = reg.predict(x_testdf)"
   ]
  },
  {
   "cell_type": "code",
   "execution_count": 281,
   "metadata": {},
   "outputs": [
    {
     "data": {
      "text/plain": [
       "0.12978608680648088"
      ]
     },
     "execution_count": 281,
     "metadata": {},
     "output_type": "execute_result"
    }
   ],
   "source": [
    "from sklearn import metrics\n",
    "KNN_RMSE = np.sqrt(metrics.mean_squared_error(y_testdf,KNN_pred))\n",
    "KNN_RMSE"
   ]
  },
  {
   "cell_type": "code",
   "execution_count": 282,
   "metadata": {},
   "outputs": [
    {
     "data": {
      "text/plain": [
       "0.8819219535923247"
      ]
     },
     "execution_count": 282,
     "metadata": {},
     "output_type": "execute_result"
    }
   ],
   "source": [
    "from sklearn.metrics import r2_score\n",
    "KNN_r2_score = r2_score(y_testdf,KNN_pred)\n",
    "KNN_r2_score"
   ]
  },
  {
   "cell_type": "code",
   "execution_count": 283,
   "metadata": {},
   "outputs": [
    {
     "data": {
      "text/plain": [
       "0.016844428328539388"
      ]
     },
     "execution_count": 283,
     "metadata": {},
     "output_type": "execute_result"
    }
   ],
   "source": [
    "from sklearn import metrics\n",
    "KNN_MSE = (metrics.mean_squared_error(y_testdf,KNN_pred))\n",
    "KNN_MSE"
   ]
  },
  {
   "cell_type": "code",
   "execution_count": 342,
   "metadata": {},
   "outputs": [
    {
     "data": {
      "text/plain": [
       "0.0864125666727316"
      ]
     },
     "execution_count": 342,
     "metadata": {},
     "output_type": "execute_result"
    }
   ],
   "source": [
    "from sklearn import metrics\n",
    "KNN_MAE=(metrics.mean_absolute_error(y_testdf, KNN_pred))\n",
    "KNN_MAE"
   ]
  },
  {
   "cell_type": "markdown",
   "metadata": {},
   "source": [
    "## SVR Model"
   ]
  },
  {
   "cell_type": "code",
   "execution_count": 239,
   "metadata": {},
   "outputs": [],
   "source": [
    "from sklearn.svm import SVR"
   ]
  },
  {
   "cell_type": "code",
   "execution_count": 240,
   "metadata": {},
   "outputs": [],
   "source": [
    "regressor = SVR(C=1.0, cache_size=100, coef0=0.0, degree=10, epsilon=0.0, gamma='scale',\n",
    "    kernel='linear', max_iter=-1, shrinking=True, tol=0.0001, verbose=False)"
   ]
  },
  {
   "cell_type": "code",
   "execution_count": 241,
   "metadata": {},
   "outputs": [
    {
     "data": {
      "text/plain": [
       "SVR(C=1.0, cache_size=100, coef0=0.0, degree=10, epsilon=0.0, gamma='scale',\n",
       "    kernel='linear', max_iter=-1, shrinking=True, tol=0.0001, verbose=False)"
      ]
     },
     "execution_count": 241,
     "metadata": {},
     "output_type": "execute_result"
    }
   ],
   "source": [
    "regressor.fit(x_traindf, y_traindf)"
   ]
  },
  {
   "cell_type": "code",
   "execution_count": 243,
   "metadata": {},
   "outputs": [],
   "source": [
    "y_pred = regressor.predict(x_testdf)"
   ]
  },
  {
   "cell_type": "code",
   "execution_count": 284,
   "metadata": {},
   "outputs": [
    {
     "data": {
      "text/plain": [
       "0.1208827820033027"
      ]
     },
     "execution_count": 284,
     "metadata": {},
     "output_type": "execute_result"
    }
   ],
   "source": [
    "from sklearn import metrics\n",
    "SVR_RMSE = np.sqrt(metrics.mean_squared_error(y_testdf,y_pred))\n",
    "SVR_RMSE"
   ]
  },
  {
   "cell_type": "code",
   "execution_count": 285,
   "metadata": {},
   "outputs": [
    {
     "data": {
      "text/plain": [
       "0.8975665558270297"
      ]
     },
     "execution_count": 285,
     "metadata": {},
     "output_type": "execute_result"
    }
   ],
   "source": [
    "from sklearn.metrics import r2_score\n",
    "SVR_r2_score = r2_score(y_testdf,y_pred)\n",
    "SVR_r2_score"
   ]
  },
  {
   "cell_type": "code",
   "execution_count": 286,
   "metadata": {},
   "outputs": [
    {
     "data": {
      "text/plain": [
       "0.014612646984858002"
      ]
     },
     "execution_count": 286,
     "metadata": {},
     "output_type": "execute_result"
    }
   ],
   "source": [
    "from sklearn import metrics\n",
    "SVR_MSE = (metrics.mean_squared_error(y_testdf,y_pred))\n",
    "SVR_MSE"
   ]
  },
  {
   "cell_type": "code",
   "execution_count": 343,
   "metadata": {},
   "outputs": [
    {
     "data": {
      "text/plain": [
       "0.08041083726244788"
      ]
     },
     "execution_count": 343,
     "metadata": {},
     "output_type": "execute_result"
    }
   ],
   "source": [
    "from sklearn import metrics\n",
    "SVR_MAE=(metrics.mean_absolute_error(y_testdf, y_pred))\n",
    "SVR_MAE"
   ]
  },
  {
   "cell_type": "markdown",
   "metadata": {},
   "source": [
    "## AdaBoost Model"
   ]
  },
  {
   "cell_type": "code",
   "execution_count": 290,
   "metadata": {},
   "outputs": [],
   "source": [
    "from sklearn.ensemble import AdaBoostRegressor"
   ]
  },
  {
   "cell_type": "code",
   "execution_count": 331,
   "metadata": {},
   "outputs": [],
   "source": [
    "Ada_reg =AdaBoostRegressor(learning_rate = 0.10,base_estimator =None ,loss = 'linear',n_estimators = 10000)"
   ]
  },
  {
   "cell_type": "code",
   "execution_count": 332,
   "metadata": {},
   "outputs": [
    {
     "data": {
      "text/plain": [
       "AdaBoostRegressor(base_estimator=None, learning_rate=0.1, loss='linear',\n",
       "                  n_estimators=10000, random_state=None)"
      ]
     },
     "execution_count": 332,
     "metadata": {},
     "output_type": "execute_result"
    }
   ],
   "source": [
    "Ada_reg.fit(x_traindf,y_traindf)"
   ]
  },
  {
   "cell_type": "code",
   "execution_count": 333,
   "metadata": {},
   "outputs": [],
   "source": [
    "Ada_pred = Ada_reg.predict(x_testdf)"
   ]
  },
  {
   "cell_type": "code",
   "execution_count": 334,
   "metadata": {},
   "outputs": [
    {
     "data": {
      "text/plain": [
       "0.16594367923133757"
      ]
     },
     "execution_count": 334,
     "metadata": {},
     "output_type": "execute_result"
    }
   ],
   "source": [
    "from sklearn import metrics\n",
    "Ada_RMSE = np.sqrt(metrics.mean_squared_error(y_testdf,Ada_pred))\n",
    "Ada_RMSE"
   ]
  },
  {
   "cell_type": "code",
   "execution_count": 337,
   "metadata": {},
   "outputs": [
    {
     "data": {
      "text/plain": [
       "0.8069657766856766"
      ]
     },
     "execution_count": 337,
     "metadata": {},
     "output_type": "execute_result"
    }
   ],
   "source": [
    "from sklearn.metrics import r2_score\n",
    "Ada_r2_score = r2_score(y_testdf,Ada_pred)\n",
    "Ada_r2_score"
   ]
  },
  {
   "cell_type": "code",
   "execution_count": 335,
   "metadata": {},
   "outputs": [
    {
     "data": {
      "text/plain": [
       "0.02753730467683306"
      ]
     },
     "execution_count": 335,
     "metadata": {},
     "output_type": "execute_result"
    }
   ],
   "source": [
    "from sklearn import metrics\n",
    "Ada_MSE = (metrics.mean_squared_error(y_testdf,Ada_pred))\n",
    "Ada_MSE"
   ]
  },
  {
   "cell_type": "code",
   "execution_count": 344,
   "metadata": {},
   "outputs": [
    {
     "data": {
      "text/plain": [
       "0.1237526925113332"
      ]
     },
     "execution_count": 344,
     "metadata": {},
     "output_type": "execute_result"
    }
   ],
   "source": [
    "from sklearn import metrics\n",
    "Ada_MAE=(metrics.mean_absolute_error(y_testdf, Ada_pred))\n",
    "Ada_MAE"
   ]
  },
  {
   "cell_type": "markdown",
   "metadata": {},
   "source": [
    "## Decision Tree Model"
   ]
  },
  {
   "cell_type": "code",
   "execution_count": 455,
   "metadata": {},
   "outputs": [],
   "source": [
    "from sklearn.tree import DecisionTreeRegressor"
   ]
  },
  {
   "cell_type": "code",
   "execution_count": 556,
   "metadata": {},
   "outputs": [],
   "source": [
    "Dtree_reg = DecisionTreeRegressor(ccp_alpha=0.0, criterion='mae', max_depth=10,\n",
    "                      max_features='auto', max_leaf_nodes=None,\n",
    "                      min_impurity_decrease=0.0, min_impurity_split=None,\n",
    "                      min_samples_leaf=20, min_samples_split=75,\n",
    "                      min_weight_fraction_leaf=0.0, presort='deprecated',\n",
    "                      random_state=42, splitter='best')"
   ]
  },
  {
   "cell_type": "code",
   "execution_count": 557,
   "metadata": {},
   "outputs": [
    {
     "data": {
      "text/plain": [
       "DecisionTreeRegressor(ccp_alpha=0.0, criterion='mae', max_depth=10,\n",
       "                      max_features='auto', max_leaf_nodes=None,\n",
       "                      min_impurity_decrease=0.0, min_impurity_split=None,\n",
       "                      min_samples_leaf=20, min_samples_split=75,\n",
       "                      min_weight_fraction_leaf=0.0, presort='deprecated',\n",
       "                      random_state=42, splitter='best')"
      ]
     },
     "execution_count": 557,
     "metadata": {},
     "output_type": "execute_result"
    }
   ],
   "source": [
    "Dtree_reg.fit(x_traindf,y_traindf)"
   ]
  },
  {
   "cell_type": "code",
   "execution_count": 558,
   "metadata": {},
   "outputs": [],
   "source": [
    "Dtree_pred = Dtree_reg.predict(x_testdf)"
   ]
  },
  {
   "cell_type": "code",
   "execution_count": 559,
   "metadata": {},
   "outputs": [
    {
     "data": {
      "image/png": "[encoded data removed]",
      "text/plain": [
       "<IPython.core.display.Image object>"
      ]
     },
     "execution_count": 559,
     "metadata": {},
     "output_type": "execute_result"
    }
   ],
   "source": [
    "import sklearn.tree as tree\n",
    "import pydotplus\n",
    "from sklearn.tree import export_graphviz\n",
    "from sklearn.externals.six import StringIO \n",
    "from IPython.display import Image\n",
    "dot_data = StringIO()\n",
    "export_graphviz(Dtree_reg, out_file=dot_data,  \n",
    "                filled=True, rounded=True,\n",
    "                special_characters=True)\n",
    "graph = pydotplus.graph_from_dot_data(dot_data.getvalue())  \n",
    "Image(graph.create_png())"
   ]
  },
  {
   "cell_type": "code",
   "execution_count": 551,
   "metadata": {},
   "outputs": [
    {
     "data": {
      "text/plain": [
       "0.16788962249852077"
      ]
     },
     "execution_count": 551,
     "metadata": {},
     "output_type": "execute_result"
    }
   ],
   "source": [
    "from sklearn import metrics\n",
    "Dtree_RMSE = np.sqrt(metrics.mean_squared_error(y_testdf,Dtree_pred))\n",
    "Dtree_RMSE"
   ]
  },
  {
   "cell_type": "code",
   "execution_count": 552,
   "metadata": {},
   "outputs": [
    {
     "data": {
      "text/plain": [
       "0.8024119896627496"
      ]
     },
     "execution_count": 552,
     "metadata": {},
     "output_type": "execute_result"
    }
   ],
   "source": [
    "from sklearn.metrics import r2_score\n",
    "Dtree_r2_score = r2_score(y_testdf,Dtree_pred)\n",
    "Dtree_r2_score"
   ]
  },
  {
   "cell_type": "code",
   "execution_count": 553,
   "metadata": {},
   "outputs": [
    {
     "data": {
      "text/plain": [
       "0.028186925342695814"
      ]
     },
     "execution_count": 553,
     "metadata": {},
     "output_type": "execute_result"
    }
   ],
   "source": [
    "from sklearn import metrics\n",
    "Dtree_MSE = (metrics.mean_squared_error(y_testdf,Dtree_pred))\n",
    "Dtree_MSE"
   ]
  },
  {
   "cell_type": "code",
   "execution_count": 554,
   "metadata": {},
   "outputs": [
    {
     "data": {
      "text/plain": [
       "0.12314058763016418"
      ]
     },
     "execution_count": 554,
     "metadata": {},
     "output_type": "execute_result"
    }
   ],
   "source": [
    "from sklearn import metrics\n",
    "Dtree_MAE=(metrics.mean_absolute_error(y_testdf, Dtree_pred))\n",
    "Dtree_MAE"
   ]
  },
  {
   "cell_type": "markdown",
   "metadata": {},
   "source": [
    "## Overall Best Model"
   ]
  },
  {
   "cell_type": "code",
   "execution_count": 555,
   "metadata": {},
   "outputs": [
    {
     "data": {
      "text/html": [
       "<style  type=\"text/css\" >\n",
       "    #T_51b83750_7a83_11ea_94cf_54bf6444d85arow3_col0 {\n",
       "            background-color:  pink;\n",
       "        }    #T_51b83750_7a83_11ea_94cf_54bf6444d85arow3_col1 {\n",
       "            background-color:  orange;\n",
       "        }    #T_51b83750_7a83_11ea_94cf_54bf6444d85arow3_col2 {\n",
       "            background-color:  yellow;\n",
       "        }    #T_51b83750_7a83_11ea_94cf_54bf6444d85arow3_col3 {\n",
       "            background-color:  lightgreen;\n",
       "        }</style><table id=\"T_51b83750_7a83_11ea_94cf_54bf6444d85a\" ><thead>    <tr>        <th class=\"blank level0\" ></th>        <th class=\"col_heading level0 col0\" >R2_Score</th>        <th class=\"col_heading level0 col1\" >RMSE</th>        <th class=\"col_heading level0 col2\" >MSE</th>        <th class=\"col_heading level0 col3\" >MAE</th>    </tr>    <tr>        <th class=\"index_name level0\" >Model</th>        <th class=\"blank\" ></th>        <th class=\"blank\" ></th>        <th class=\"blank\" ></th>        <th class=\"blank\" ></th>    </tr></thead><tbody>\n",
       "                <tr>\n",
       "                        <th id=\"T_51b83750_7a83_11ea_94cf_54bf6444d85alevel0_row0\" class=\"row_heading level0 row0\" >LinearRegression</th>\n",
       "                        <td id=\"T_51b83750_7a83_11ea_94cf_54bf6444d85arow0_col0\" class=\"data row0 col0\" >0.821199</td>\n",
       "                        <td id=\"T_51b83750_7a83_11ea_94cf_54bf6444d85arow0_col1\" class=\"data row0 col1\" >0.159709</td>\n",
       "                        <td id=\"T_51b83750_7a83_11ea_94cf_54bf6444d85arow0_col2\" class=\"data row0 col2\" >0.025507</td>\n",
       "                        <td id=\"T_51b83750_7a83_11ea_94cf_54bf6444d85arow0_col3\" class=\"data row0 col3\" >0.090713</td>\n",
       "            </tr>\n",
       "            <tr>\n",
       "                        <th id=\"T_51b83750_7a83_11ea_94cf_54bf6444d85alevel0_row1\" class=\"row_heading level0 row1\" >RandomForestRegressor</th>\n",
       "                        <td id=\"T_51b83750_7a83_11ea_94cf_54bf6444d85arow1_col0\" class=\"data row1 col0\" >0.881922</td>\n",
       "                        <td id=\"T_51b83750_7a83_11ea_94cf_54bf6444d85arow1_col1\" class=\"data row1 col1\" >0.129786</td>\n",
       "                        <td id=\"T_51b83750_7a83_11ea_94cf_54bf6444d85arow1_col2\" class=\"data row1 col2\" >0.016844</td>\n",
       "                        <td id=\"T_51b83750_7a83_11ea_94cf_54bf6444d85arow1_col3\" class=\"data row1 col3\" >0.086413</td>\n",
       "            </tr>\n",
       "            <tr>\n",
       "                        <th id=\"T_51b83750_7a83_11ea_94cf_54bf6444d85alevel0_row2\" class=\"row_heading level0 row2\" >XGBoost Regressor</th>\n",
       "                        <td id=\"T_51b83750_7a83_11ea_94cf_54bf6444d85arow2_col0\" class=\"data row2 col0\" >0.881581</td>\n",
       "                        <td id=\"T_51b83750_7a83_11ea_94cf_54bf6444d85arow2_col1\" class=\"data row2 col1\" >0.129973</td>\n",
       "                        <td id=\"T_51b83750_7a83_11ea_94cf_54bf6444d85arow2_col2\" class=\"data row2 col2\" >0.016893</td>\n",
       "                        <td id=\"T_51b83750_7a83_11ea_94cf_54bf6444d85arow2_col3\" class=\"data row2 col3\" >0.087916</td>\n",
       "            </tr>\n",
       "            <tr>\n",
       "                        <th id=\"T_51b83750_7a83_11ea_94cf_54bf6444d85alevel0_row3\" class=\"row_heading level0 row3\" >Support Vector Regressor</th>\n",
       "                        <td id=\"T_51b83750_7a83_11ea_94cf_54bf6444d85arow3_col0\" class=\"data row3 col0\" >0.897567</td>\n",
       "                        <td id=\"T_51b83750_7a83_11ea_94cf_54bf6444d85arow3_col1\" class=\"data row3 col1\" >0.120883</td>\n",
       "                        <td id=\"T_51b83750_7a83_11ea_94cf_54bf6444d85arow3_col2\" class=\"data row3 col2\" >0.014613</td>\n",
       "                        <td id=\"T_51b83750_7a83_11ea_94cf_54bf6444d85arow3_col3\" class=\"data row3 col3\" >0.080411</td>\n",
       "            </tr>\n",
       "            <tr>\n",
       "                        <th id=\"T_51b83750_7a83_11ea_94cf_54bf6444d85alevel0_row4\" class=\"row_heading level0 row4\" >KNN Regressor</th>\n",
       "                        <td id=\"T_51b83750_7a83_11ea_94cf_54bf6444d85arow4_col0\" class=\"data row4 col0\" >0.881922</td>\n",
       "                        <td id=\"T_51b83750_7a83_11ea_94cf_54bf6444d85arow4_col1\" class=\"data row4 col1\" >0.129786</td>\n",
       "                        <td id=\"T_51b83750_7a83_11ea_94cf_54bf6444d85arow4_col2\" class=\"data row4 col2\" >0.016844</td>\n",
       "                        <td id=\"T_51b83750_7a83_11ea_94cf_54bf6444d85arow4_col3\" class=\"data row4 col3\" >0.086413</td>\n",
       "            </tr>\n",
       "            <tr>\n",
       "                        <th id=\"T_51b83750_7a83_11ea_94cf_54bf6444d85alevel0_row5\" class=\"row_heading level0 row5\" >AdaBoost Regressor</th>\n",
       "                        <td id=\"T_51b83750_7a83_11ea_94cf_54bf6444d85arow5_col0\" class=\"data row5 col0\" >0.806966</td>\n",
       "                        <td id=\"T_51b83750_7a83_11ea_94cf_54bf6444d85arow5_col1\" class=\"data row5 col1\" >0.165944</td>\n",
       "                        <td id=\"T_51b83750_7a83_11ea_94cf_54bf6444d85arow5_col2\" class=\"data row5 col2\" >0.027537</td>\n",
       "                        <td id=\"T_51b83750_7a83_11ea_94cf_54bf6444d85arow5_col3\" class=\"data row5 col3\" >0.123753</td>\n",
       "            </tr>\n",
       "            <tr>\n",
       "                        <th id=\"T_51b83750_7a83_11ea_94cf_54bf6444d85alevel0_row6\" class=\"row_heading level0 row6\" >DecisionTreeRegressor</th>\n",
       "                        <td id=\"T_51b83750_7a83_11ea_94cf_54bf6444d85arow6_col0\" class=\"data row6 col0\" >0.802412</td>\n",
       "                        <td id=\"T_51b83750_7a83_11ea_94cf_54bf6444d85arow6_col1\" class=\"data row6 col1\" >0.167890</td>\n",
       "                        <td id=\"T_51b83750_7a83_11ea_94cf_54bf6444d85arow6_col2\" class=\"data row6 col2\" >0.028187</td>\n",
       "                        <td id=\"T_51b83750_7a83_11ea_94cf_54bf6444d85arow6_col3\" class=\"data row6 col3\" >0.123141</td>\n",
       "            </tr>\n",
       "    </tbody></table>"
      ],
      "text/plain": [
       "<pandas.io.formats.style.Styler at 0x21b2fd8bf48>"
      ]
     },
     "execution_count": 555,
     "metadata": {},
     "output_type": "execute_result"
    }
   ],
   "source": [
    "Best_Model ={'Model':['LinearRegression','RandomForestRegressor', 'XGBoost Regressor','Support Vector Regressor', 'KNN Regressor','AdaBoost Regressor','DecisionTreeRegressor'],\n",
    "        'R2_Score':[LR_r2_score,rf_r2_score,XGb_r2_score,SVR_r2_score,KNN_r2_score,Ada_r2_score,Dtree_r2_score],'RMSE':[LR_RMSE,rf_RMSE,XGb_RMSE,SVR_RMSE,KNN_RMSE,Ada_RMSE,Dtree_RMSE]\n",
    "            ,'MSE':[LR_MSE,rf_MSE,XGb_MSE,SVR_MSE,KNN_MSE,Ada_MSE,Dtree_MSE],'MAE':[LR_MAE,rf_MAE,XGb_MAE,SVR_MAE,KNN_MAE,Ada_MAE,Dtree_MAE]}\n",
    "Best_Model =pd.DataFrame(Best_Model)\n",
    "Best_Model=Best_Model.set_index('Model')\n",
    "Best_Model\n",
    "\n",
    "# def highlight_cells(x):\n",
    "#     df = x.copy()\n",
    "#     df.loc[:,:] = '' \n",
    "#     df.iloc[3,0] = 'background-color: pink'\n",
    "#     df.iloc[3,1] = 'background-color: orange'\n",
    "#     df.iloc[3,2] = 'background-color: yellow'\n",
    "#     df.iloc[3,3] = 'background-color: lightgreen'\n",
    "#     return df \n",
    "\n",
    "# t = Best_Model.style.apply(highlight_cells, axis=None)\n",
    "# t"
   ]
  },
  {
   "cell_type": "markdown",
   "metadata": {},
   "source": [
    " ####  <html><font color='red' size=\"4\"> The Best Model Is  <font size=\"4\"><font color=\"blue\"> :: </font> </font>Support Vector Regressor</font></html>"
   ]
  },
  {
   "cell_type": "markdown",
   "metadata": {},
   "source": [
    "## Model Cross Validations"
   ]
  },
  {
   "cell_type": "markdown",
   "metadata": {},
   "source": [
    "## SVR Grid Search Cross Validation"
   ]
  },
  {
   "cell_type": "code",
   "execution_count": 57,
   "metadata": {},
   "outputs": [],
   "source": [
    "from sklearn.model_selection import GridSearchCV"
   ]
  },
  {
   "cell_type": "code",
   "execution_count": 66,
   "metadata": {},
   "outputs": [],
   "source": [
    "C_range = 15.0 ** np.arange(-5, 5)\n",
    "gamma_range = 15.0 ** np.arange(-5, 5)\n",
    "param_grid = dict(gamma=gamma_range.tolist(), C=C_range.tolist())"
   ]
  },
  {
   "cell_type": "code",
   "execution_count": 67,
   "metadata": {},
   "outputs": [],
   "source": [
    "svr = SVR()"
   ]
  },
  {
   "cell_type": "code",
   "execution_count": 68,
   "metadata": {},
   "outputs": [
    {
     "data": {
      "text/plain": [
       "GridSearchCV(cv=None, error_score=nan,\n",
       "             estimator=SVR(C=1.0, cache_size=200, coef0=0.0, degree=3,\n",
       "                           epsilon=0.1, gamma='scale', kernel='rbf',\n",
       "                           max_iter=-1, shrinking=True, tol=0.001,\n",
       "                           verbose=False),\n",
       "             iid='deprecated', n_jobs=None,\n",
       "             param_grid={'C': [1.3168724279835392e-06, 1.9753086419753087e-05,\n",
       "                               0.0002962962962962963, 0.0044444444444444444,\n",
       "                               0.06666666666666667, 1.0, 15.0, 225.0, 3375.0,\n",
       "                               50625.0],\n",
       "                         'gamma': [1.3168724279835392e-06,\n",
       "                                   1.9753086419753087e-05,\n",
       "                                   0.0002962962962962963, 0.0044444444444444444,\n",
       "                                   0.06666666666666667, 1.0, 15.0, 225.0,\n",
       "                                   3375.0, 50625.0]},\n",
       "             pre_dispatch='2*n_jobs', refit=True, return_train_score=False,\n",
       "             scoring=None, verbose=0)"
      ]
     },
     "execution_count": 68,
     "metadata": {},
     "output_type": "execute_result"
    }
   ],
   "source": [
    "grid = GridSearchCV(svr, param_grid)\n",
    "grid.fit(x_traindf, y_traindf)"
   ]
  },
  {
   "cell_type": "code",
   "execution_count": 134,
   "metadata": {},
   "outputs": [
    {
     "name": "stdout",
     "output_type": "stream",
     "text": [
      "[LibSVM]"
     ]
    },
    {
     "data": {
      "text/plain": [
       "SVR(C=15.0, cache_size=500, coef0=0.0, degree=7, epsilon=0.1, gamma=0.001,\n",
       "    kernel='rbf', max_iter=-1, shrinking=True, tol=0.0001, verbose=1)"
      ]
     },
     "execution_count": 134,
     "metadata": {},
     "output_type": "execute_result"
    }
   ],
   "source": [
    "clf1=SVR(C=15.0, cache_size=500,coef0=0.0, degree=7, \n",
    "  gamma=.001, max_iter=-1,shrinking=True,\n",
    "  tol=0.0001, verbose=1) #Gives slightly less than the benchmark store\n",
    "clf1.fit(x_traindf, y_traindf)"
   ]
  },
  {
   "cell_type": "code",
   "execution_count": 135,
   "metadata": {},
   "outputs": [],
   "source": [
    "clf_pred1=clf1.predict(x_testdf)"
   ]
  },
  {
   "cell_type": "code",
   "execution_count": 561,
   "metadata": {},
   "outputs": [
    {
     "data": {
      "text/plain": [
       "0.12374809634919628"
      ]
     },
     "execution_count": 561,
     "metadata": {},
     "output_type": "execute_result"
    }
   ],
   "source": [
    "from sklearn import metrics\n",
    "SVR_CV = np.sqrt(metrics.mean_squared_error(y_testdf,clf_pred1))\n",
    "SVR_CV"
   ]
  },
  {
   "cell_type": "code",
   "execution_count": 562,
   "metadata": {},
   "outputs": [
    {
     "data": {
      "text/plain": [
       "0.015313591350049966"
      ]
     },
     "execution_count": 562,
     "metadata": {},
     "output_type": "execute_result"
    }
   ],
   "source": [
    "from sklearn import metrics\n",
    "SVR_CV_MSE = (metrics.mean_squared_error(y_testdf,clf_pred1))\n",
    "SVR_CV_MSE"
   ]
  },
  {
   "cell_type": "code",
   "execution_count": 563,
   "metadata": {},
   "outputs": [
    {
     "data": {
      "text/plain": [
       "0.0856886316818253"
      ]
     },
     "execution_count": 563,
     "metadata": {},
     "output_type": "execute_result"
    }
   ],
   "source": [
    "from sklearn import metrics\n",
    "SVR_CV_MAE=(metrics.mean_absolute_error(y_testdf, clf_pred1))\n",
    "SVR_CV_MAE"
   ]
  },
  {
   "cell_type": "code",
   "execution_count": 606,
   "metadata": {},
   "outputs": [
    {
     "data": {
      "text/plain": [
       "0.8926529939258457"
      ]
     },
     "execution_count": 606,
     "metadata": {},
     "output_type": "execute_result"
    }
   ],
   "source": [
    "from sklearn.metrics import r2_score\n",
    "SVR_CV_r2_score = r2_score(y_testdf, clf_pred1)\n",
    "SVR_CV_r2_score"
   ]
  },
  {
   "cell_type": "markdown",
   "metadata": {},
   "source": [
    "## Random Forest Grid Search Cross Validation"
   ]
  },
  {
   "cell_type": "code",
   "execution_count": 156,
   "metadata": {},
   "outputs": [],
   "source": [
    "from sklearn.model_selection import GridSearchCV"
   ]
  },
  {
   "cell_type": "code",
   "execution_count": 157,
   "metadata": {},
   "outputs": [],
   "source": [
    "param_grid = {\n",
    "    'bootstrap': [True],\n",
    "    'max_depth': [80, 100, 120, 140],\n",
    "    'max_features': [10, 20],\n",
    "    'min_samples_leaf': [9, 11, 13],\n",
    "    'min_samples_split': [12, 14, 16],\n",
    "    'n_estimators': [200, 400, 600, 1000]\n",
    "}"
   ]
  },
  {
   "cell_type": "code",
   "execution_count": 158,
   "metadata": {},
   "outputs": [],
   "source": [
    "rf = RandomForestRegressor(random_state=0)"
   ]
  },
  {
   "cell_type": "code",
   "execution_count": 160,
   "metadata": {},
   "outputs": [],
   "source": [
    "grid_search = GridSearchCV(estimator = rf, param_grid = param_grid, \n",
    "                          cv = 20, n_jobs = -5, verbose = 5)"
   ]
  },
  {
   "cell_type": "code",
   "execution_count": 161,
   "metadata": {},
   "outputs": [
    {
     "name": "stdout",
     "output_type": "stream",
     "text": [
      "Fitting 20 folds for each of 288 candidates, totalling 5760 fits\n"
     ]
    },
    {
     "name": "stderr",
     "output_type": "stream",
     "text": [
      "[Parallel(n_jobs=-5)]: Using backend LokyBackend with 4 concurrent workers.\n",
      "[Parallel(n_jobs=-5)]: Done  10 tasks      | elapsed:    3.9s\n",
      "[Parallel(n_jobs=-5)]: Done  64 tasks      | elapsed:   27.1s\n",
      "[Parallel(n_jobs=-5)]: Done 154 tasks      | elapsed:  1.3min\n",
      "[Parallel(n_jobs=-5)]: Done 280 tasks      | elapsed:  2.2min\n",
      "[Parallel(n_jobs=-5)]: Done 442 tasks      | elapsed:  3.5min\n",
      "[Parallel(n_jobs=-5)]: Done 640 tasks      | elapsed:  5.2min\n",
      "[Parallel(n_jobs=-5)]: Done 874 tasks      | elapsed:  7.5min\n",
      "[Parallel(n_jobs=-5)]: Done 1144 tasks      | elapsed: 10.1min\n",
      "[Parallel(n_jobs=-5)]: Done 1450 tasks      | elapsed: 13.1min\n",
      "[Parallel(n_jobs=-5)]: Done 1792 tasks      | elapsed: 15.8min\n",
      "[Parallel(n_jobs=-5)]: Done 2170 tasks      | elapsed: 18.0min\n",
      "[Parallel(n_jobs=-5)]: Done 2584 tasks      | elapsed: 20.2min\n",
      "[Parallel(n_jobs=-5)]: Done 3034 tasks      | elapsed: 22.7min\n",
      "[Parallel(n_jobs=-5)]: Done 3520 tasks      | elapsed: 25.0min\n",
      "[Parallel(n_jobs=-5)]: Done 4042 tasks      | elapsed: 27.9min\n",
      "[Parallel(n_jobs=-5)]: Done 4600 tasks      | elapsed: 30.8min\n",
      "[Parallel(n_jobs=-5)]: Done 5194 tasks      | elapsed: 33.7min\n",
      "[Parallel(n_jobs=-5)]: Done 5760 out of 5760 | elapsed: 36.9min finished\n"
     ]
    }
   ],
   "source": [
    "Grid = grid_search.fit(x_traindf, y_traindf)"
   ]
  },
  {
   "cell_type": "code",
   "execution_count": 162,
   "metadata": {},
   "outputs": [],
   "source": [
    "Reg_preddf=grid_search.predict(x_testdf)"
   ]
  },
  {
   "cell_type": "code",
   "execution_count": 566,
   "metadata": {},
   "outputs": [
    {
     "data": {
      "text/plain": [
       "0.14135653765893957"
      ]
     },
     "execution_count": 566,
     "metadata": {},
     "output_type": "execute_result"
    }
   ],
   "source": [
    "from sklearn import metrics\n",
    "RF_CV = np.sqrt(metrics.mean_squared_error(y_testdf,Reg_preddf))\n",
    "RF_CV"
   ]
  },
  {
   "cell_type": "code",
   "execution_count": 568,
   "metadata": {},
   "outputs": [
    {
     "data": {
      "text/plain": [
       "0.019981670738923204"
      ]
     },
     "execution_count": 568,
     "metadata": {},
     "output_type": "execute_result"
    }
   ],
   "source": [
    "from sklearn import metrics\n",
    "RF_CV_MSE = (metrics.mean_squared_error(y_testdf,Reg_preddf))\n",
    "RF_CV_MSE"
   ]
  },
  {
   "cell_type": "code",
   "execution_count": 567,
   "metadata": {},
   "outputs": [
    {
     "data": {
      "text/plain": [
       "0.09186661797835616"
      ]
     },
     "execution_count": 567,
     "metadata": {},
     "output_type": "execute_result"
    }
   ],
   "source": [
    "from sklearn import metrics\n",
    "RF_CV_MAE=(metrics.mean_absolute_error(y_testdf, Reg_preddf))\n",
    "RF_CV_MAE"
   ]
  },
  {
   "cell_type": "code",
   "execution_count": 569,
   "metadata": {},
   "outputs": [
    {
     "data": {
      "text/plain": [
       "0.8599301443305172"
      ]
     },
     "execution_count": 569,
     "metadata": {},
     "output_type": "execute_result"
    }
   ],
   "source": [
    "from sklearn.metrics import r2_score\n",
    "RF_CV_r2_score = r2_score(y_testdf, Reg_preddf)\n",
    "RF_CV_r2_score"
   ]
  },
  {
   "cell_type": "markdown",
   "metadata": {},
   "source": [
    "## XGboost Grid Search Cross Validation"
   ]
  },
  {
   "cell_type": "code",
   "execution_count": 662,
   "metadata": {},
   "outputs": [],
   "source": [
    "from sklearn.model_selection import GridSearchCV"
   ]
  },
  {
   "cell_type": "code",
   "execution_count": 663,
   "metadata": {},
   "outputs": [],
   "source": [
    "param_grid = {\n",
    "    'bootstrap': [True],\n",
    "    'max_depth': [80, 100, 120, 140],\n",
    "    'max_features': [10, 20],\n",
    "    'min_samples_leaf': [9, 11, 13],\n",
    "    'min_samples_split': [12, 14, 16],\n",
    "    'n_estimators': [200, 400, 600, 2000]\n",
    "}"
   ]
  },
  {
   "cell_type": "code",
   "execution_count": 664,
   "metadata": {},
   "outputs": [],
   "source": [
    "xg_reg =XGBRegressor(objective ='reg:linear', colsample_bytree = 0.3, learning_rate = 0.2, max_depth = 6, \n",
    "                          alpha = 7, n_estimators = 10000)"
   ]
  },
  {
   "cell_type": "code",
   "execution_count": 610,
   "metadata": {},
   "outputs": [],
   "source": [
    "grid_search = GridSearchCV(estimator = xg_reg, param_grid = param_grid, \n",
    "                          cv = 10, n_jobs = -4, verbose = 4)"
   ]
  },
  {
   "cell_type": "code",
   "execution_count": 611,
   "metadata": {},
   "outputs": [
    {
     "name": "stdout",
     "output_type": "stream",
     "text": [
      "Fitting 10 folds for each of 288 candidates, totalling 2880 fits\n"
     ]
    },
    {
     "name": "stderr",
     "output_type": "stream",
     "text": [
      "[Parallel(n_jobs=-4)]: Using backend LokyBackend with 5 concurrent workers.\n",
      "[Parallel(n_jobs=-4)]: Done  15 tasks      | elapsed:    6.3s\n",
      "[Parallel(n_jobs=-4)]: Done  88 tasks      | elapsed:   48.6s\n",
      "[Parallel(n_jobs=-4)]: Done 211 tasks      | elapsed:  1.9min\n",
      "[Parallel(n_jobs=-4)]: Done 382 tasks      | elapsed:  3.5min\n",
      "[Parallel(n_jobs=-4)]: Done 603 tasks      | elapsed:  5.6min\n",
      "[Parallel(n_jobs=-4)]: Done 872 tasks      | elapsed:  8.1min\n",
      "[Parallel(n_jobs=-4)]: Done 1191 tasks      | elapsed: 11.0min\n",
      "[Parallel(n_jobs=-4)]: Done 1558 tasks      | elapsed: 14.5min\n",
      "[Parallel(n_jobs=-4)]: Done 1975 tasks      | elapsed: 18.3min\n",
      "[Parallel(n_jobs=-4)]: Done 2440 tasks      | elapsed: 22.7min\n",
      "[Parallel(n_jobs=-4)]: Done 2880 out of 2880 | elapsed: 26.8min finished\n"
     ]
    },
    {
     "name": "stdout",
     "output_type": "stream",
     "text": [
      "[00:03:58] WARNING: src/objective/regression_obj.cu:152: reg:linear is now deprecated in favor of reg:squarederror.\n"
     ]
    }
   ],
   "source": [
    "Grid = grid_search.fit(x_traindf,y_traindf)"
   ]
  },
  {
   "cell_type": "code",
   "execution_count": 613,
   "metadata": {},
   "outputs": [],
   "source": [
    "XGb_preddf=grid_search.predict(x_testdf)"
   ]
  },
  {
   "cell_type": "code",
   "execution_count": 614,
   "metadata": {},
   "outputs": [
    {
     "data": {
      "text/plain": [
       "0.14095416399309313"
      ]
     },
     "execution_count": 614,
     "metadata": {},
     "output_type": "execute_result"
    }
   ],
   "source": [
    "from sklearn import metrics\n",
    "XGb_RMSE_CV = np.sqrt(metrics.mean_squared_error(y_testdf,XGb_preddf))\n",
    "XGb_RMSE_CV"
   ]
  },
  {
   "cell_type": "code",
   "execution_count": 615,
   "metadata": {},
   "outputs": [
    {
     "data": {
      "text/plain": [
       "0.8607264316025169"
      ]
     },
     "execution_count": 615,
     "metadata": {},
     "output_type": "execute_result"
    }
   ],
   "source": [
    "from sklearn.metrics import r2_score\n",
    "XGb_r2_score_CV = r2_score(y_testdf,XGb_preddf)\n",
    "XGb_r2_score_CV"
   ]
  },
  {
   "cell_type": "code",
   "execution_count": 616,
   "metadata": {},
   "outputs": [
    {
     "data": {
      "text/plain": [
       "0.01986807634699179"
      ]
     },
     "execution_count": 616,
     "metadata": {},
     "output_type": "execute_result"
    }
   ],
   "source": [
    "from sklearn import metrics\n",
    "XGb_MSE_CV = (metrics.mean_squared_error(y_testdf,XGb_preddf))\n",
    "XGb_MSE_CV"
   ]
  },
  {
   "cell_type": "code",
   "execution_count": 617,
   "metadata": {},
   "outputs": [
    {
     "data": {
      "text/plain": [
       "0.09703406825629353"
      ]
     },
     "execution_count": 617,
     "metadata": {},
     "output_type": "execute_result"
    }
   ],
   "source": [
    "from sklearn import metrics\n",
    "XGb_MAE_CV = (metrics.mean_absolute_error(y_testdf, XGb_preddf))\n",
    "XGb_MAE_CV"
   ]
  },
  {
   "cell_type": "markdown",
   "metadata": {},
   "source": [
    "## Adaoost Grid Search Cross Validation"
   ]
  },
  {
   "cell_type": "code",
   "execution_count": 665,
   "metadata": {},
   "outputs": [],
   "source": [
    "from sklearn.model_selection import GridSearchCV"
   ]
  },
  {
   "cell_type": "code",
   "execution_count": 680,
   "metadata": {},
   "outputs": [],
   "source": [
    "param_grid = {\n",
    "    'n_estimators': [200, 400, 600, 2000],\n",
    "    'learning_rate':[0.01,0.05,0.1,0.3,1],\n",
    "    'loss': ['linear', 'square', 'exponential']\n",
    "}"
   ]
  },
  {
   "cell_type": "code",
   "execution_count": 681,
   "metadata": {},
   "outputs": [],
   "source": [
    "Ada_reg =AdaBoostRegressor(learning_rate = 0.10,base_estimator =None ,loss = 'linear',n_estimators = 10000)"
   ]
  },
  {
   "cell_type": "code",
   "execution_count": 682,
   "metadata": {},
   "outputs": [],
   "source": [
    "grid_search = GridSearchCV(estimator = Ada_reg, param_grid = param_grid, \n",
    "                          cv = 10, n_jobs = -4, verbose = 4)"
   ]
  },
  {
   "cell_type": "code",
   "execution_count": 683,
   "metadata": {},
   "outputs": [
    {
     "name": "stdout",
     "output_type": "stream",
     "text": [
      "Fitting 10 folds for each of 60 candidates, totalling 600 fits\n"
     ]
    },
    {
     "name": "stderr",
     "output_type": "stream",
     "text": [
      "[Parallel(n_jobs=-4)]: Using backend LokyBackend with 5 concurrent workers.\n",
      "[Parallel(n_jobs=-4)]: Done  15 tasks      | elapsed:   18.4s\n",
      "[Parallel(n_jobs=-4)]: Done  88 tasks      | elapsed:  4.1min\n",
      "[Parallel(n_jobs=-4)]: Done 211 tasks      | elapsed:  7.8min\n",
      "[Parallel(n_jobs=-4)]: Done 382 tasks      | elapsed: 12.4min\n",
      "[Parallel(n_jobs=-4)]: Done 600 out of 600 | elapsed: 18.6min finished\n"
     ]
    }
   ],
   "source": [
    "Grid = grid_search.fit(x_traindf,y_traindf)"
   ]
  },
  {
   "cell_type": "code",
   "execution_count": 684,
   "metadata": {},
   "outputs": [],
   "source": [
    "Ada_preddf=grid_search.predict(x_testdf)"
   ]
  },
  {
   "cell_type": "code",
   "execution_count": 685,
   "metadata": {},
   "outputs": [
    {
     "data": {
      "text/plain": [
       "0.16033725366621773"
      ]
     },
     "execution_count": 685,
     "metadata": {},
     "output_type": "execute_result"
    }
   ],
   "source": [
    "from sklearn import metrics\n",
    "Ada_RMSE_CV = np.sqrt(metrics.mean_squared_error(y_testdf,Ada_preddf))\n",
    "Ada_RMSE_CV"
   ]
  },
  {
   "cell_type": "code",
   "execution_count": 686,
   "metadata": {},
   "outputs": [
    {
     "data": {
      "text/plain": [
       "0.8197888061068356"
      ]
     },
     "execution_count": 686,
     "metadata": {},
     "output_type": "execute_result"
    }
   ],
   "source": [
    "from sklearn.metrics import r2_score\n",
    "Ada_r2_score_CV = r2_score(y_testdf,Ada_preddf)\n",
    "Ada_r2_score_CV"
   ]
  },
  {
   "cell_type": "code",
   "execution_count": 687,
   "metadata": {},
   "outputs": [
    {
     "data": {
      "text/plain": [
       "0.02570803491322505"
      ]
     },
     "execution_count": 687,
     "metadata": {},
     "output_type": "execute_result"
    }
   ],
   "source": [
    "from sklearn import metrics\n",
    "Ada_MSE_CV = (metrics.mean_squared_error(y_testdf,Ada_preddf))\n",
    "Ada_MSE_CV"
   ]
  },
  {
   "cell_type": "code",
   "execution_count": 688,
   "metadata": {},
   "outputs": [
    {
     "data": {
      "text/plain": [
       "0.11954797593887419"
      ]
     },
     "execution_count": 688,
     "metadata": {},
     "output_type": "execute_result"
    }
   ],
   "source": [
    "from sklearn import metrics\n",
    "Ada_MAE_CV = (metrics.mean_absolute_error(y_testdf, Ada_preddf))\n",
    "Ada_MAE_CV"
   ]
  },
  {
   "cell_type": "markdown",
   "metadata": {},
   "source": [
    "## Final Out"
   ]
  },
  {
   "cell_type": "code",
   "execution_count": 690,
   "metadata": {},
   "outputs": [
    {
     "data": {
      "text/html": [
       "<style  type=\"text/css\" >\n",
       "    #T_330d2a8a_7a99_11ea_a9ab_54bf6444d85arow3_col0 {\n",
       "            background-color:  pink;\n",
       "        }    #T_330d2a8a_7a99_11ea_a9ab_54bf6444d85arow3_col1 {\n",
       "            background-color:  orange;\n",
       "        }    #T_330d2a8a_7a99_11ea_a9ab_54bf6444d85arow3_col2 {\n",
       "            background-color:  yellow;\n",
       "        }    #T_330d2a8a_7a99_11ea_a9ab_54bf6444d85arow3_col3 {\n",
       "            background-color:  lightgreen;\n",
       "        }    #T_330d2a8a_7a99_11ea_a9ab_54bf6444d85arow7_col0 {\n",
       "            background-color:  pink;\n",
       "        }    #T_330d2a8a_7a99_11ea_a9ab_54bf6444d85arow7_col1 {\n",
       "            background-color:  orange;\n",
       "        }    #T_330d2a8a_7a99_11ea_a9ab_54bf6444d85arow7_col2 {\n",
       "            background-color:  yellow;\n",
       "        }    #T_330d2a8a_7a99_11ea_a9ab_54bf6444d85arow7_col3 {\n",
       "            background-color:  lightgreen;\n",
       "        }</style><table id=\"T_330d2a8a_7a99_11ea_a9ab_54bf6444d85a\" ><thead>    <tr>        <th class=\"blank level0\" ></th>        <th class=\"col_heading level0 col0\" >R2_Score</th>        <th class=\"col_heading level0 col1\" >RMSE</th>        <th class=\"col_heading level0 col2\" >MSE</th>        <th class=\"col_heading level0 col3\" >MAE</th>    </tr>    <tr>        <th class=\"index_name level0\" >Model</th>        <th class=\"blank\" ></th>        <th class=\"blank\" ></th>        <th class=\"blank\" ></th>        <th class=\"blank\" ></th>    </tr></thead><tbody>\n",
       "                <tr>\n",
       "                        <th id=\"T_330d2a8a_7a99_11ea_a9ab_54bf6444d85alevel0_row0\" class=\"row_heading level0 row0\" >Linear_Regression</th>\n",
       "                        <td id=\"T_330d2a8a_7a99_11ea_a9ab_54bf6444d85arow0_col0\" class=\"data row0 col0\" >0.821199</td>\n",
       "                        <td id=\"T_330d2a8a_7a99_11ea_a9ab_54bf6444d85arow0_col1\" class=\"data row0 col1\" >0.159709</td>\n",
       "                        <td id=\"T_330d2a8a_7a99_11ea_a9ab_54bf6444d85arow0_col2\" class=\"data row0 col2\" >0.025507</td>\n",
       "                        <td id=\"T_330d2a8a_7a99_11ea_a9ab_54bf6444d85arow0_col3\" class=\"data row0 col3\" >0.090713</td>\n",
       "            </tr>\n",
       "            <tr>\n",
       "                        <th id=\"T_330d2a8a_7a99_11ea_a9ab_54bf6444d85alevel0_row1\" class=\"row_heading level0 row1\" >RandomForest_Regressor</th>\n",
       "                        <td id=\"T_330d2a8a_7a99_11ea_a9ab_54bf6444d85arow1_col0\" class=\"data row1 col0\" >0.881922</td>\n",
       "                        <td id=\"T_330d2a8a_7a99_11ea_a9ab_54bf6444d85arow1_col1\" class=\"data row1 col1\" >0.129786</td>\n",
       "                        <td id=\"T_330d2a8a_7a99_11ea_a9ab_54bf6444d85arow1_col2\" class=\"data row1 col2\" >0.016844</td>\n",
       "                        <td id=\"T_330d2a8a_7a99_11ea_a9ab_54bf6444d85arow1_col3\" class=\"data row1 col3\" >0.086413</td>\n",
       "            </tr>\n",
       "            <tr>\n",
       "                        <th id=\"T_330d2a8a_7a99_11ea_a9ab_54bf6444d85alevel0_row2\" class=\"row_heading level0 row2\" >XGBoost_Regressor</th>\n",
       "                        <td id=\"T_330d2a8a_7a99_11ea_a9ab_54bf6444d85arow2_col0\" class=\"data row2 col0\" >0.881581</td>\n",
       "                        <td id=\"T_330d2a8a_7a99_11ea_a9ab_54bf6444d85arow2_col1\" class=\"data row2 col1\" >0.129973</td>\n",
       "                        <td id=\"T_330d2a8a_7a99_11ea_a9ab_54bf6444d85arow2_col2\" class=\"data row2 col2\" >0.016893</td>\n",
       "                        <td id=\"T_330d2a8a_7a99_11ea_a9ab_54bf6444d85arow2_col3\" class=\"data row2 col3\" >0.087916</td>\n",
       "            </tr>\n",
       "            <tr>\n",
       "                        <th id=\"T_330d2a8a_7a99_11ea_a9ab_54bf6444d85alevel0_row3\" class=\"row_heading level0 row3\" >SupportVector_Regressor</th>\n",
       "                        <td id=\"T_330d2a8a_7a99_11ea_a9ab_54bf6444d85arow3_col0\" class=\"data row3 col0\" >0.897567</td>\n",
       "                        <td id=\"T_330d2a8a_7a99_11ea_a9ab_54bf6444d85arow3_col1\" class=\"data row3 col1\" >0.120883</td>\n",
       "                        <td id=\"T_330d2a8a_7a99_11ea_a9ab_54bf6444d85arow3_col2\" class=\"data row3 col2\" >0.014613</td>\n",
       "                        <td id=\"T_330d2a8a_7a99_11ea_a9ab_54bf6444d85arow3_col3\" class=\"data row3 col3\" >0.080411</td>\n",
       "            </tr>\n",
       "            <tr>\n",
       "                        <th id=\"T_330d2a8a_7a99_11ea_a9ab_54bf6444d85alevel0_row4\" class=\"row_heading level0 row4\" >KNN_Regressor</th>\n",
       "                        <td id=\"T_330d2a8a_7a99_11ea_a9ab_54bf6444d85arow4_col0\" class=\"data row4 col0\" >0.881922</td>\n",
       "                        <td id=\"T_330d2a8a_7a99_11ea_a9ab_54bf6444d85arow4_col1\" class=\"data row4 col1\" >0.129786</td>\n",
       "                        <td id=\"T_330d2a8a_7a99_11ea_a9ab_54bf6444d85arow4_col2\" class=\"data row4 col2\" >0.016844</td>\n",
       "                        <td id=\"T_330d2a8a_7a99_11ea_a9ab_54bf6444d85arow4_col3\" class=\"data row4 col3\" >0.086413</td>\n",
       "            </tr>\n",
       "            <tr>\n",
       "                        <th id=\"T_330d2a8a_7a99_11ea_a9ab_54bf6444d85alevel0_row5\" class=\"row_heading level0 row5\" >AdaBoost_Regressor</th>\n",
       "                        <td id=\"T_330d2a8a_7a99_11ea_a9ab_54bf6444d85arow5_col0\" class=\"data row5 col0\" >0.806966</td>\n",
       "                        <td id=\"T_330d2a8a_7a99_11ea_a9ab_54bf6444d85arow5_col1\" class=\"data row5 col1\" >0.165944</td>\n",
       "                        <td id=\"T_330d2a8a_7a99_11ea_a9ab_54bf6444d85arow5_col2\" class=\"data row5 col2\" >0.027537</td>\n",
       "                        <td id=\"T_330d2a8a_7a99_11ea_a9ab_54bf6444d85arow5_col3\" class=\"data row5 col3\" >0.123753</td>\n",
       "            </tr>\n",
       "            <tr>\n",
       "                        <th id=\"T_330d2a8a_7a99_11ea_a9ab_54bf6444d85alevel0_row6\" class=\"row_heading level0 row6\" >DecisionTree_Regressor</th>\n",
       "                        <td id=\"T_330d2a8a_7a99_11ea_a9ab_54bf6444d85arow6_col0\" class=\"data row6 col0\" >0.802412</td>\n",
       "                        <td id=\"T_330d2a8a_7a99_11ea_a9ab_54bf6444d85arow6_col1\" class=\"data row6 col1\" >0.167890</td>\n",
       "                        <td id=\"T_330d2a8a_7a99_11ea_a9ab_54bf6444d85arow6_col2\" class=\"data row6 col2\" >0.028187</td>\n",
       "                        <td id=\"T_330d2a8a_7a99_11ea_a9ab_54bf6444d85arow6_col3\" class=\"data row6 col3\" >0.123141</td>\n",
       "            </tr>\n",
       "            <tr>\n",
       "                        <th id=\"T_330d2a8a_7a99_11ea_a9ab_54bf6444d85alevel0_row7\" class=\"row_heading level0 row7\" >SupportVectorReg_CrossValidated</th>\n",
       "                        <td id=\"T_330d2a8a_7a99_11ea_a9ab_54bf6444d85arow7_col0\" class=\"data row7 col0\" >0.892653</td>\n",
       "                        <td id=\"T_330d2a8a_7a99_11ea_a9ab_54bf6444d85arow7_col1\" class=\"data row7 col1\" >0.123748</td>\n",
       "                        <td id=\"T_330d2a8a_7a99_11ea_a9ab_54bf6444d85arow7_col2\" class=\"data row7 col2\" >0.015314</td>\n",
       "                        <td id=\"T_330d2a8a_7a99_11ea_a9ab_54bf6444d85arow7_col3\" class=\"data row7 col3\" >0.085689</td>\n",
       "            </tr>\n",
       "            <tr>\n",
       "                        <th id=\"T_330d2a8a_7a99_11ea_a9ab_54bf6444d85alevel0_row8\" class=\"row_heading level0 row8\" >RandomForest_CrossValidated</th>\n",
       "                        <td id=\"T_330d2a8a_7a99_11ea_a9ab_54bf6444d85arow8_col0\" class=\"data row8 col0\" >0.859930</td>\n",
       "                        <td id=\"T_330d2a8a_7a99_11ea_a9ab_54bf6444d85arow8_col1\" class=\"data row8 col1\" >0.141357</td>\n",
       "                        <td id=\"T_330d2a8a_7a99_11ea_a9ab_54bf6444d85arow8_col2\" class=\"data row8 col2\" >0.019982</td>\n",
       "                        <td id=\"T_330d2a8a_7a99_11ea_a9ab_54bf6444d85arow8_col3\" class=\"data row8 col3\" >0.091867</td>\n",
       "            </tr>\n",
       "            <tr>\n",
       "                        <th id=\"T_330d2a8a_7a99_11ea_a9ab_54bf6444d85alevel0_row9\" class=\"row_heading level0 row9\" >XGboost_CrossValidated</th>\n",
       "                        <td id=\"T_330d2a8a_7a99_11ea_a9ab_54bf6444d85arow9_col0\" class=\"data row9 col0\" >0.860726</td>\n",
       "                        <td id=\"T_330d2a8a_7a99_11ea_a9ab_54bf6444d85arow9_col1\" class=\"data row9 col1\" >0.140954</td>\n",
       "                        <td id=\"T_330d2a8a_7a99_11ea_a9ab_54bf6444d85arow9_col2\" class=\"data row9 col2\" >0.019868</td>\n",
       "                        <td id=\"T_330d2a8a_7a99_11ea_a9ab_54bf6444d85arow9_col3\" class=\"data row9 col3\" >0.097034</td>\n",
       "            </tr>\n",
       "            <tr>\n",
       "                        <th id=\"T_330d2a8a_7a99_11ea_a9ab_54bf6444d85alevel0_row10\" class=\"row_heading level0 row10\" >AdaBoost_CrossValidated</th>\n",
       "                        <td id=\"T_330d2a8a_7a99_11ea_a9ab_54bf6444d85arow10_col0\" class=\"data row10 col0\" >0.819789</td>\n",
       "                        <td id=\"T_330d2a8a_7a99_11ea_a9ab_54bf6444d85arow10_col1\" class=\"data row10 col1\" >0.160337</td>\n",
       "                        <td id=\"T_330d2a8a_7a99_11ea_a9ab_54bf6444d85arow10_col2\" class=\"data row10 col2\" >0.025708</td>\n",
       "                        <td id=\"T_330d2a8a_7a99_11ea_a9ab_54bf6444d85arow10_col3\" class=\"data row10 col3\" >0.119548</td>\n",
       "            </tr>\n",
       "    </tbody></table>"
      ],
      "text/plain": [
       "<pandas.io.formats.style.Styler at 0x21b2ff869c8>"
      ]
     },
     "execution_count": 690,
     "metadata": {},
     "output_type": "execute_result"
    }
   ],
   "source": [
    "Best_Model ={'Model':['Linear_Regression','RandomForest_Regressor', 'XGBoost_Regressor','SupportVector_Regressor', 'KNN_Regressor','AdaBoost_Regressor','DecisionTree_Regressor','SupportVectorReg_CrossValidated','RandomForest_CrossValidated','XGboost_CrossValidated','AdaBoost_CrossValidated'],\n",
    "        'R2_Score':[LR_r2_score,rf_r2_score,XGb_r2_score,SVR_r2_score,KNN_r2_score,Ada_r2_score,Dtree_r2_score,SVR_CV_r2_score,RF_CV_r2_score,XGb_r2_score_CV,Ada_r2_score_CV],'RMSE':[LR_RMSE,rf_RMSE,XGb_RMSE,SVR_RMSE,KNN_RMSE,Ada_RMSE,Dtree_RMSE,SVR_CV,RF_CV,XGb_RMSE_CV,Ada_RMSE_CV]\n",
    "            ,'MSE':[LR_MSE,rf_MSE,XGb_MSE,SVR_MSE,KNN_MSE,Ada_MSE,Dtree_MSE,SVR_CV_MSE,RF_CV_MSE,XGb_MSE_CV,Ada_MSE_CV],'MAE':[LR_MAE,rf_MAE,XGb_MAE,SVR_MAE,KNN_MAE,Ada_MAE,Dtree_MAE,SVR_CV_MAE,RF_CV_MAE,XGb_MAE_CV,Ada_MAE_CV]}\n",
    "Best_Model =pd.DataFrame(Best_Model)\n",
    "Best_Model=Best_Model.set_index('Model')\n",
    "Best_Model\n",
    "\n",
    "# def highlight_cells(x):\n",
    "#     df = x.copy()\n",
    "#     df.loc[:,:] = '' \n",
    "#     df.iloc[3,0] = 'background-color: pink'\n",
    "#     df.iloc[3,1] = 'background-color: orange'\n",
    "#     df.iloc[3,2] = 'background-color: yellow'\n",
    "#     df.iloc[3,3] = 'background-color: lightgreen'\n",
    "#     df.iloc[7,0] = 'background-color: pink'\n",
    "#     df.iloc[7,1] = 'background-color: orange'\n",
    "#     df.iloc[7,2] = 'background-color: yellow'\n",
    "#     df.iloc[7,3] = 'background-color: lightgreen'\n",
    "#     return df \n",
    "\n",
    "# t = Best_Model.style.apply(highlight_cells, axis=None)\n",
    "# t"
   ]
  },
  {
   "cell_type": "markdown",
   "metadata": {},
   "source": [
    "#### <html><font color='red' size=\"4\"> The Best Model Is  <font size=\"4\"><font color=\"blue\"> :: </font> </font>Support Vector Regressor</font></html>"
   ]
  },
  {
   "cell_type": "code",
   "execution_count": null,
   "metadata": {},
   "outputs": [],
   "source": []
  },
  {
   "cell_type": "code",
   "execution_count": null,
   "metadata": {},
   "outputs": [],
   "source": []
  }
 ],
 "metadata": {
  "kernelspec": {
   "display_name": "Python 3",
   "language": "python",
   "name": "python3"
  },
  "language_info": {
   "codemirror_mode": {
    "name": "ipython",
    "version": 3
   },
   "file_extension": ".py",
   "mimetype": "text/x-python",
   "name": "python",
   "nbconvert_exporter": "python",
   "pygments_lexer": "ipython3",
   "version": "3.7.6"
  }
 },
 "nbformat": 4,
 "nbformat_minor": 4
}
