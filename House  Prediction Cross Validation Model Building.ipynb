{
 "cells": [
  {
   "cell_type": "markdown",
   "metadata": {},
   "source": [
    "## Model Cross Validations"
   ]
  },
  {
   "cell_type": "markdown",
   "metadata": {},
   "source": [
    "## SVR Grid Search Cross Validation"
   ]
  },
  {
   "cell_type": "code",
   "execution_count": 57,
   "metadata": {},
   "outputs": [],
   "source": [
    "from sklearn.model_selection import GridSearchCV"
   ]
  },
  {
   "cell_type": "code",
   "execution_count": 66,
   "metadata": {},
   "outputs": [],
   "source": [
    "C_range = 15.0 ** np.arange(-5, 5)\n",
    "gamma_range = 15.0 ** np.arange(-5, 5)\n",
    "param_grid = dict(gamma=gamma_range.tolist(), C=C_range.tolist())"
   ]
  },
  {
   "cell_type": "code",
   "execution_count": 67,
   "metadata": {},
   "outputs": [],
   "source": [
    "svr = SVR()"
   ]
  },
  {
   "cell_type": "code",
   "execution_count": 68,
   "metadata": {},
   "outputs": [
    {
     "data": {
      "text/plain": [
       "GridSearchCV(cv=None, error_score=nan,\n",
       "             estimator=SVR(C=1.0, cache_size=200, coef0=0.0, degree=3,\n",
       "                           epsilon=0.1, gamma='scale', kernel='rbf',\n",
       "                           max_iter=-1, shrinking=True, tol=0.001,\n",
       "                           verbose=False),\n",
       "             iid='deprecated', n_jobs=None,\n",
       "             param_grid={'C': [1.3168724279835392e-06, 1.9753086419753087e-05,\n",
       "                               0.0002962962962962963, 0.0044444444444444444,\n",
       "                               0.06666666666666667, 1.0, 15.0, 225.0, 3375.0,\n",
       "                               50625.0],\n",
       "                         'gamma': [1.3168724279835392e-06,\n",
       "                                   1.9753086419753087e-05,\n",
       "                                   0.0002962962962962963, 0.0044444444444444444,\n",
       "                                   0.06666666666666667, 1.0, 15.0, 225.0,\n",
       "                                   3375.0, 50625.0]},\n",
       "             pre_dispatch='2*n_jobs', refit=True, return_train_score=False,\n",
       "             scoring=None, verbose=0)"
      ]
     },
     "execution_count": 68,
     "metadata": {},
     "output_type": "execute_result"
    }
   ],
   "source": [
    "grid = GridSearchCV(svr, param_grid)\n",
    "grid.fit(x_traindf, y_traindf)"
   ]
  },
  {
   "cell_type": "code",
   "execution_count": 134,
   "metadata": {},
   "outputs": [
    {
     "name": "stdout",
     "output_type": "stream",
     "text": [
      "[LibSVM]"
     ]
    },
    {
     "data": {
      "text/plain": [
       "SVR(C=15.0, cache_size=500, coef0=0.0, degree=7, epsilon=0.1, gamma=0.001,\n",
       "    kernel='rbf', max_iter=-1, shrinking=True, tol=0.0001, verbose=1)"
      ]
     },
     "execution_count": 134,
     "metadata": {},
     "output_type": "execute_result"
    }
   ],
   "source": [
    "clf1=SVR(C=15.0, cache_size=500,coef0=0.0, degree=7, \n",
    "  gamma=.001, max_iter=-1,shrinking=True,\n",
    "  tol=0.0001, verbose=1) #Gives slightly less than the benchmark store\n",
    "clf1.fit(x_traindf, y_traindf)"
   ]
  },
  {
   "cell_type": "code",
   "execution_count": 135,
   "metadata": {},
   "outputs": [],
   "source": [
    "clf_pred1=clf1.predict(x_testdf)"
   ]
  },
  {
   "cell_type": "code",
   "execution_count": 561,
   "metadata": {},
   "outputs": [
    {
     "data": {
      "text/plain": [
       "0.12374809634919628"
      ]
     },
     "execution_count": 561,
     "metadata": {},
     "output_type": "execute_result"
    }
   ],
   "source": [
    "from sklearn import metrics\n",
    "SVR_CV = np.sqrt(metrics.mean_squared_error(y_testdf,clf_pred1))\n",
    "SVR_CV"
   ]
  },
  {
   "cell_type": "code",
   "execution_count": 562,
   "metadata": {},
   "outputs": [
    {
     "data": {
      "text/plain": [
       "0.015313591350049966"
      ]
     },
     "execution_count": 562,
     "metadata": {},
     "output_type": "execute_result"
    }
   ],
   "source": [
    "from sklearn import metrics\n",
    "SVR_CV_MSE = (metrics.mean_squared_error(y_testdf,clf_pred1))\n",
    "SVR_CV_MSE"
   ]
  },
  {
   "cell_type": "code",
   "execution_count": 563,
   "metadata": {},
   "outputs": [
    {
     "data": {
      "text/plain": [
       "0.0856886316818253"
      ]
     },
     "execution_count": 563,
     "metadata": {},
     "output_type": "execute_result"
    }
   ],
   "source": [
    "from sklearn import metrics\n",
    "SVR_CV_MAE=(metrics.mean_absolute_error(y_testdf, clf_pred1))\n",
    "SVR_CV_MAE"
   ]
  },
  {
   "cell_type": "code",
   "execution_count": 606,
   "metadata": {},
   "outputs": [
    {
     "data": {
      "text/plain": [
       "0.8926529939258457"
      ]
     },
     "execution_count": 606,
     "metadata": {},
     "output_type": "execute_result"
    }
   ],
   "source": [
    "from sklearn.metrics import r2_score\n",
    "SVR_CV_r2_score = r2_score(y_testdf, clf_pred1)\n",
    "SVR_CV_r2_score"
   ]
  },
  {
   "cell_type": "markdown",
   "metadata": {},
   "source": [
    "## Random Forest Grid Search Cross Validation"
   ]
  },
  {
   "cell_type": "code",
   "execution_count": 156,
   "metadata": {},
   "outputs": [],
   "source": [
    "from sklearn.model_selection import GridSearchCV"
   ]
  },
  {
   "cell_type": "code",
   "execution_count": 157,
   "metadata": {},
   "outputs": [],
   "source": [
    "param_grid = {\n",
    "    'bootstrap': [True],\n",
    "    'max_depth': [80, 100, 120, 140],\n",
    "    'max_features': [10, 20],\n",
    "    'min_samples_leaf': [9, 11, 13],\n",
    "    'min_samples_split': [12, 14, 16],\n",
    "    'n_estimators': [200, 400, 600, 1000]\n",
    "}"
   ]
  },
  {
   "cell_type": "code",
   "execution_count": 158,
   "metadata": {},
   "outputs": [],
   "source": [
    "rf = RandomForestRegressor(random_state=0)"
   ]
  },
  {
   "cell_type": "code",
   "execution_count": 160,
   "metadata": {},
   "outputs": [],
   "source": [
    "grid_search = GridSearchCV(estimator = rf, param_grid = param_grid, \n",
    "                          cv = 20, n_jobs = -5, verbose = 5)"
   ]
  },
  {
   "cell_type": "code",
   "execution_count": 161,
   "metadata": {},
   "outputs": [
    {
     "name": "stdout",
     "output_type": "stream",
     "text": [
      "Fitting 20 folds for each of 288 candidates, totalling 5760 fits\n"
     ]
    },
    {
     "name": "stderr",
     "output_type": "stream",
     "text": [
      "[Parallel(n_jobs=-5)]: Using backend LokyBackend with 4 concurrent workers.\n",
      "[Parallel(n_jobs=-5)]: Done  10 tasks      | elapsed:    3.9s\n",
      "[Parallel(n_jobs=-5)]: Done  64 tasks      | elapsed:   27.1s\n",
      "[Parallel(n_jobs=-5)]: Done 154 tasks      | elapsed:  1.3min\n",
      "[Parallel(n_jobs=-5)]: Done 280 tasks      | elapsed:  2.2min\n",
      "[Parallel(n_jobs=-5)]: Done 442 tasks      | elapsed:  3.5min\n",
      "[Parallel(n_jobs=-5)]: Done 640 tasks      | elapsed:  5.2min\n",
      "[Parallel(n_jobs=-5)]: Done 874 tasks      | elapsed:  7.5min\n",
      "[Parallel(n_jobs=-5)]: Done 1144 tasks      | elapsed: 10.1min\n",
      "[Parallel(n_jobs=-5)]: Done 1450 tasks      | elapsed: 13.1min\n",
      "[Parallel(n_jobs=-5)]: Done 1792 tasks      | elapsed: 15.8min\n",
      "[Parallel(n_jobs=-5)]: Done 2170 tasks      | elapsed: 18.0min\n",
      "[Parallel(n_jobs=-5)]: Done 2584 tasks      | elapsed: 20.2min\n",
      "[Parallel(n_jobs=-5)]: Done 3034 tasks      | elapsed: 22.7min\n",
      "[Parallel(n_jobs=-5)]: Done 3520 tasks      | elapsed: 25.0min\n",
      "[Parallel(n_jobs=-5)]: Done 4042 tasks      | elapsed: 27.9min\n",
      "[Parallel(n_jobs=-5)]: Done 4600 tasks      | elapsed: 30.8min\n",
      "[Parallel(n_jobs=-5)]: Done 5194 tasks      | elapsed: 33.7min\n",
      "[Parallel(n_jobs=-5)]: Done 5760 out of 5760 | elapsed: 36.9min finished\n"
     ]
    }
   ],
   "source": [
    "Grid = grid_search.fit(x_traindf, y_traindf)"
   ]
  },
  {
   "cell_type": "code",
   "execution_count": 162,
   "metadata": {},
   "outputs": [],
   "source": [
    "Reg_preddf=grid_search.predict(x_testdf)"
   ]
  },
  {
   "cell_type": "code",
   "execution_count": 566,
   "metadata": {},
   "outputs": [
    {
     "data": {
      "text/plain": [
       "0.14135653765893957"
      ]
     },
     "execution_count": 566,
     "metadata": {},
     "output_type": "execute_result"
    }
   ],
   "source": [
    "from sklearn import metrics\n",
    "RF_CV = np.sqrt(metrics.mean_squared_error(y_testdf,Reg_preddf))\n",
    "RF_CV"
   ]
  },
  {
   "cell_type": "code",
   "execution_count": 568,
   "metadata": {},
   "outputs": [
    {
     "data": {
      "text/plain": [
       "0.019981670738923204"
      ]
     },
     "execution_count": 568,
     "metadata": {},
     "output_type": "execute_result"
    }
   ],
   "source": [
    "from sklearn import metrics\n",
    "RF_CV_MSE = (metrics.mean_squared_error(y_testdf,Reg_preddf))\n",
    "RF_CV_MSE"
   ]
  },
  {
   "cell_type": "code",
   "execution_count": 567,
   "metadata": {},
   "outputs": [
    {
     "data": {
      "text/plain": [
       "0.09186661797835616"
      ]
     },
     "execution_count": 567,
     "metadata": {},
     "output_type": "execute_result"
    }
   ],
   "source": [
    "from sklearn import metrics\n",
    "RF_CV_MAE=(metrics.mean_absolute_error(y_testdf, Reg_preddf))\n",
    "RF_CV_MAE"
   ]
  },
  {
   "cell_type": "code",
   "execution_count": 569,
   "metadata": {},
   "outputs": [
    {
     "data": {
      "text/plain": [
       "0.8599301443305172"
      ]
     },
     "execution_count": 569,
     "metadata": {},
     "output_type": "execute_result"
    }
   ],
   "source": [
    "from sklearn.metrics import r2_score\n",
    "RF_CV_r2_score = r2_score(y_testdf, Reg_preddf)\n",
    "RF_CV_r2_score"
   ]
  },
  {
   "cell_type": "markdown",
   "metadata": {},
   "source": [
    "## XGboost Grid Search Cross Validation"
   ]
  },
  {
   "cell_type": "code",
   "execution_count": 662,
   "metadata": {},
   "outputs": [],
   "source": [
    "from sklearn.model_selection import GridSearchCV"
   ]
  },
  {
   "cell_type": "code",
   "execution_count": 663,
   "metadata": {},
   "outputs": [],
   "source": [
    "param_grid = {\n",
    "    'bootstrap': [True],\n",
    "    'max_depth': [80, 100, 120, 140],\n",
    "    'max_features': [10, 20],\n",
    "    'min_samples_leaf': [9, 11, 13],\n",
    "    'min_samples_split': [12, 14, 16],\n",
    "    'n_estimators': [200, 400, 600, 2000]\n",
    "}"
   ]
  },
  {
   "cell_type": "code",
   "execution_count": 664,
   "metadata": {},
   "outputs": [],
   "source": [
    "xg_reg =XGBRegressor(objective ='reg:linear', colsample_bytree = 0.3, learning_rate = 0.2, max_depth = 6, \n",
    "                          alpha = 7, n_estimators = 10000)"
   ]
  },
  {
   "cell_type": "code",
   "execution_count": 610,
   "metadata": {},
   "outputs": [],
   "source": [
    "grid_search = GridSearchCV(estimator = xg_reg, param_grid = param_grid, \n",
    "                          cv = 10, n_jobs = -4, verbose = 4)"
   ]
  },
  {
   "cell_type": "code",
   "execution_count": 611,
   "metadata": {},
   "outputs": [
    {
     "name": "stdout",
     "output_type": "stream",
     "text": [
      "Fitting 10 folds for each of 288 candidates, totalling 2880 fits\n"
     ]
    },
    {
     "name": "stderr",
     "output_type": "stream",
     "text": [
      "[Parallel(n_jobs=-4)]: Using backend LokyBackend with 5 concurrent workers.\n",
      "[Parallel(n_jobs=-4)]: Done  15 tasks      | elapsed:    6.3s\n",
      "[Parallel(n_jobs=-4)]: Done  88 tasks      | elapsed:   48.6s\n",
      "[Parallel(n_jobs=-4)]: Done 211 tasks      | elapsed:  1.9min\n",
      "[Parallel(n_jobs=-4)]: Done 382 tasks      | elapsed:  3.5min\n",
      "[Parallel(n_jobs=-4)]: Done 603 tasks      | elapsed:  5.6min\n",
      "[Parallel(n_jobs=-4)]: Done 872 tasks      | elapsed:  8.1min\n",
      "[Parallel(n_jobs=-4)]: Done 1191 tasks      | elapsed: 11.0min\n",
      "[Parallel(n_jobs=-4)]: Done 1558 tasks      | elapsed: 14.5min\n",
      "[Parallel(n_jobs=-4)]: Done 1975 tasks      | elapsed: 18.3min\n",
      "[Parallel(n_jobs=-4)]: Done 2440 tasks      | elapsed: 22.7min\n",
      "[Parallel(n_jobs=-4)]: Done 2880 out of 2880 | elapsed: 26.8min finished\n"
     ]
    },
    {
     "name": "stdout",
     "output_type": "stream",
     "text": [
      "[00:03:58] WARNING: src/objective/regression_obj.cu:152: reg:linear is now deprecated in favor of reg:squarederror.\n"
     ]
    }
   ],
   "source": [
    "Grid = grid_search.fit(x_traindf,y_traindf)"
   ]
  },
  {
   "cell_type": "code",
   "execution_count": 613,
   "metadata": {},
   "outputs": [],
   "source": [
    "XGb_preddf=grid_search.predict(x_testdf)"
   ]
  },
  {
   "cell_type": "code",
   "execution_count": 614,
   "metadata": {},
   "outputs": [
    {
     "data": {
      "text/plain": [
       "0.14095416399309313"
      ]
     },
     "execution_count": 614,
     "metadata": {},
     "output_type": "execute_result"
    }
   ],
   "source": [
    "from sklearn import metrics\n",
    "XGb_RMSE_CV = np.sqrt(metrics.mean_squared_error(y_testdf,XGb_preddf))\n",
    "XGb_RMSE_CV"
   ]
  },
  {
   "cell_type": "code",
   "execution_count": 615,
   "metadata": {},
   "outputs": [
    {
     "data": {
      "text/plain": [
       "0.8607264316025169"
      ]
     },
     "execution_count": 615,
     "metadata": {},
     "output_type": "execute_result"
    }
   ],
   "source": [
    "from sklearn.metrics import r2_score\n",
    "XGb_r2_score_CV = r2_score(y_testdf,XGb_preddf)\n",
    "XGb_r2_score_CV"
   ]
  },
  {
   "cell_type": "code",
   "execution_count": 616,
   "metadata": {},
   "outputs": [
    {
     "data": {
      "text/plain": [
       "0.01986807634699179"
      ]
     },
     "execution_count": 616,
     "metadata": {},
     "output_type": "execute_result"
    }
   ],
   "source": [
    "from sklearn import metrics\n",
    "XGb_MSE_CV = (metrics.mean_squared_error(y_testdf,XGb_preddf))\n",
    "XGb_MSE_CV"
   ]
  },
  {
   "cell_type": "code",
   "execution_count": 617,
   "metadata": {},
   "outputs": [
    {
     "data": {
      "text/plain": [
       "0.09703406825629353"
      ]
     },
     "execution_count": 617,
     "metadata": {},
     "output_type": "execute_result"
    }
   ],
   "source": [
    "from sklearn import metrics\n",
    "XGb_MAE_CV = (metrics.mean_absolute_error(y_testdf, XGb_preddf))\n",
    "XGb_MAE_CV"
   ]
  },
  {
   "cell_type": "markdown",
   "metadata": {},
   "source": [
    "## Adaoost Grid Search Cross Validation"
   ]
  },
  {
   "cell_type": "code",
   "execution_count": 665,
   "metadata": {},
   "outputs": [],
   "source": [
    "from sklearn.model_selection import GridSearchCV"
   ]
  },
  {
   "cell_type": "code",
   "execution_count": 680,
   "metadata": {},
   "outputs": [],
   "source": [
    "param_grid = {\n",
    "    'n_estimators': [200, 400, 600, 2000],\n",
    "    'learning_rate':[0.01,0.05,0.1,0.3,1],\n",
    "    'loss': ['linear', 'square', 'exponential']\n",
    "}"
   ]
  },
  {
   "cell_type": "code",
   "execution_count": 681,
   "metadata": {},
   "outputs": [],
   "source": [
    "Ada_reg =AdaBoostRegressor(learning_rate = 0.10,base_estimator =None ,loss = 'linear',n_estimators = 10000)"
   ]
  },
  {
   "cell_type": "code",
   "execution_count": 682,
   "metadata": {},
   "outputs": [],
   "source": [
    "grid_search = GridSearchCV(estimator = Ada_reg, param_grid = param_grid, \n",
    "                          cv = 10, n_jobs = -4, verbose = 4)"
   ]
  },
  {
   "cell_type": "code",
   "execution_count": 683,
   "metadata": {},
   "outputs": [
    {
     "name": "stdout",
     "output_type": "stream",
     "text": [
      "Fitting 10 folds for each of 60 candidates, totalling 600 fits\n"
     ]
    },
    {
     "name": "stderr",
     "output_type": "stream",
     "text": [
      "[Parallel(n_jobs=-4)]: Using backend LokyBackend with 5 concurrent workers.\n",
      "[Parallel(n_jobs=-4)]: Done  15 tasks      | elapsed:   18.4s\n",
      "[Parallel(n_jobs=-4)]: Done  88 tasks      | elapsed:  4.1min\n",
      "[Parallel(n_jobs=-4)]: Done 211 tasks      | elapsed:  7.8min\n",
      "[Parallel(n_jobs=-4)]: Done 382 tasks      | elapsed: 12.4min\n",
      "[Parallel(n_jobs=-4)]: Done 600 out of 600 | elapsed: 18.6min finished\n"
     ]
    }
   ],
   "source": [
    "Grid = grid_search.fit(x_traindf,y_traindf)"
   ]
  },
  {
   "cell_type": "code",
   "execution_count": 684,
   "metadata": {},
   "outputs": [],
   "source": [
    "Ada_preddf=grid_search.predict(x_testdf)"
   ]
  },
  {
   "cell_type": "code",
   "execution_count": 685,
   "metadata": {},
   "outputs": [
    {
     "data": {
      "text/plain": [
       "0.16033725366621773"
      ]
     },
     "execution_count": 685,
     "metadata": {},
     "output_type": "execute_result"
    }
   ],
   "source": [
    "from sklearn import metrics\n",
    "Ada_RMSE_CV = np.sqrt(metrics.mean_squared_error(y_testdf,Ada_preddf))\n",
    "Ada_RMSE_CV"
   ]
  },
  {
   "cell_type": "code",
   "execution_count": 686,
   "metadata": {},
   "outputs": [
    {
     "data": {
      "text/plain": [
       "0.8197888061068356"
      ]
     },
     "execution_count": 686,
     "metadata": {},
     "output_type": "execute_result"
    }
   ],
   "source": [
    "from sklearn.metrics import r2_score\n",
    "Ada_r2_score_CV = r2_score(y_testdf,Ada_preddf)\n",
    "Ada_r2_score_CV"
   ]
  },
  {
   "cell_type": "code",
   "execution_count": 687,
   "metadata": {},
   "outputs": [
    {
     "data": {
      "text/plain": [
       "0.02570803491322505"
      ]
     },
     "execution_count": 687,
     "metadata": {},
     "output_type": "execute_result"
    }
   ],
   "source": [
    "from sklearn import metrics\n",
    "Ada_MSE_CV = (metrics.mean_squared_error(y_testdf,Ada_preddf))\n",
    "Ada_MSE_CV"
   ]
  },
  {
   "cell_type": "code",
   "execution_count": 688,
   "metadata": {},
   "outputs": [
    {
     "data": {
      "text/plain": [
       "0.11954797593887419"
      ]
     },
     "execution_count": 688,
     "metadata": {},
     "output_type": "execute_result"
    }
   ],
   "source": [
    "from sklearn import metrics\n",
    "Ada_MAE_CV = (metrics.mean_absolute_error(y_testdf, Ada_preddf))\n",
    "Ada_MAE_CV"
   ]
  },
  {
   "cell_type": "markdown",
   "metadata": {},
   "source": [
    "## Final Out"
   ]
  },
  {
   "cell_type": "code",
   "execution_count": 690,
   "metadata": {},
   "outputs": [
    {
     "data": {
      "text/html": [
       "<style  type=\"text/css\" >\n",
       "    #T_330d2a8a_7a99_11ea_a9ab_54bf6444d85arow3_col0 {\n",
       "            background-color:  pink;\n",
       "        }    #T_330d2a8a_7a99_11ea_a9ab_54bf6444d85arow3_col1 {\n",
       "            background-color:  orange;\n",
       "        }    #T_330d2a8a_7a99_11ea_a9ab_54bf6444d85arow3_col2 {\n",
       "            background-color:  yellow;\n",
       "        }    #T_330d2a8a_7a99_11ea_a9ab_54bf6444d85arow3_col3 {\n",
       "            background-color:  lightgreen;\n",
       "        }    #T_330d2a8a_7a99_11ea_a9ab_54bf6444d85arow7_col0 {\n",
       "            background-color:  pink;\n",
       "        }    #T_330d2a8a_7a99_11ea_a9ab_54bf6444d85arow7_col1 {\n",
       "            background-color:  orange;\n",
       "        }    #T_330d2a8a_7a99_11ea_a9ab_54bf6444d85arow7_col2 {\n",
       "            background-color:  yellow;\n",
       "        }    #T_330d2a8a_7a99_11ea_a9ab_54bf6444d85arow7_col3 {\n",
       "            background-color:  lightgreen;\n",
       "        }</style><table id=\"T_330d2a8a_7a99_11ea_a9ab_54bf6444d85a\" ><thead>    <tr>        <th class=\"blank level0\" ></th>        <th class=\"col_heading level0 col0\" >R2_Score</th>        <th class=\"col_heading level0 col1\" >RMSE</th>        <th class=\"col_heading level0 col2\" >MSE</th>        <th class=\"col_heading level0 col3\" >MAE</th>    </tr>    <tr>        <th class=\"index_name level0\" >Model</th>        <th class=\"blank\" ></th>        <th class=\"blank\" ></th>        <th class=\"blank\" ></th>        <th class=\"blank\" ></th>    </tr></thead><tbody>\n",
       "                <tr>\n",
       "                        <th id=\"T_330d2a8a_7a99_11ea_a9ab_54bf6444d85alevel0_row0\" class=\"row_heading level0 row0\" >Linear_Regression</th>\n",
       "                        <td id=\"T_330d2a8a_7a99_11ea_a9ab_54bf6444d85arow0_col0\" class=\"data row0 col0\" >0.821199</td>\n",
       "                        <td id=\"T_330d2a8a_7a99_11ea_a9ab_54bf6444d85arow0_col1\" class=\"data row0 col1\" >0.159709</td>\n",
       "                        <td id=\"T_330d2a8a_7a99_11ea_a9ab_54bf6444d85arow0_col2\" class=\"data row0 col2\" >0.025507</td>\n",
       "                        <td id=\"T_330d2a8a_7a99_11ea_a9ab_54bf6444d85arow0_col3\" class=\"data row0 col3\" >0.090713</td>\n",
       "            </tr>\n",
       "            <tr>\n",
       "                        <th id=\"T_330d2a8a_7a99_11ea_a9ab_54bf6444d85alevel0_row1\" class=\"row_heading level0 row1\" >RandomForest_Regressor</th>\n",
       "                        <td id=\"T_330d2a8a_7a99_11ea_a9ab_54bf6444d85arow1_col0\" class=\"data row1 col0\" >0.881922</td>\n",
       "                        <td id=\"T_330d2a8a_7a99_11ea_a9ab_54bf6444d85arow1_col1\" class=\"data row1 col1\" >0.129786</td>\n",
       "                        <td id=\"T_330d2a8a_7a99_11ea_a9ab_54bf6444d85arow1_col2\" class=\"data row1 col2\" >0.016844</td>\n",
       "                        <td id=\"T_330d2a8a_7a99_11ea_a9ab_54bf6444d85arow1_col3\" class=\"data row1 col3\" >0.086413</td>\n",
       "            </tr>\n",
       "            <tr>\n",
       "                        <th id=\"T_330d2a8a_7a99_11ea_a9ab_54bf6444d85alevel0_row2\" class=\"row_heading level0 row2\" >XGBoost_Regressor</th>\n",
       "                        <td id=\"T_330d2a8a_7a99_11ea_a9ab_54bf6444d85arow2_col0\" class=\"data row2 col0\" >0.881581</td>\n",
       "                        <td id=\"T_330d2a8a_7a99_11ea_a9ab_54bf6444d85arow2_col1\" class=\"data row2 col1\" >0.129973</td>\n",
       "                        <td id=\"T_330d2a8a_7a99_11ea_a9ab_54bf6444d85arow2_col2\" class=\"data row2 col2\" >0.016893</td>\n",
       "                        <td id=\"T_330d2a8a_7a99_11ea_a9ab_54bf6444d85arow2_col3\" class=\"data row2 col3\" >0.087916</td>\n",
       "            </tr>\n",
       "            <tr>\n",
       "                        <th id=\"T_330d2a8a_7a99_11ea_a9ab_54bf6444d85alevel0_row3\" class=\"row_heading level0 row3\" >SupportVector_Regressor</th>\n",
       "                        <td id=\"T_330d2a8a_7a99_11ea_a9ab_54bf6444d85arow3_col0\" class=\"data row3 col0\" >0.897567</td>\n",
       "                        <td id=\"T_330d2a8a_7a99_11ea_a9ab_54bf6444d85arow3_col1\" class=\"data row3 col1\" >0.120883</td>\n",
       "                        <td id=\"T_330d2a8a_7a99_11ea_a9ab_54bf6444d85arow3_col2\" class=\"data row3 col2\" >0.014613</td>\n",
       "                        <td id=\"T_330d2a8a_7a99_11ea_a9ab_54bf6444d85arow3_col3\" class=\"data row3 col3\" >0.080411</td>\n",
       "            </tr>\n",
       "            <tr>\n",
       "                        <th id=\"T_330d2a8a_7a99_11ea_a9ab_54bf6444d85alevel0_row4\" class=\"row_heading level0 row4\" >KNN_Regressor</th>\n",
       "                        <td id=\"T_330d2a8a_7a99_11ea_a9ab_54bf6444d85arow4_col0\" class=\"data row4 col0\" >0.881922</td>\n",
       "                        <td id=\"T_330d2a8a_7a99_11ea_a9ab_54bf6444d85arow4_col1\" class=\"data row4 col1\" >0.129786</td>\n",
       "                        <td id=\"T_330d2a8a_7a99_11ea_a9ab_54bf6444d85arow4_col2\" class=\"data row4 col2\" >0.016844</td>\n",
       "                        <td id=\"T_330d2a8a_7a99_11ea_a9ab_54bf6444d85arow4_col3\" class=\"data row4 col3\" >0.086413</td>\n",
       "            </tr>\n",
       "            <tr>\n",
       "                        <th id=\"T_330d2a8a_7a99_11ea_a9ab_54bf6444d85alevel0_row5\" class=\"row_heading level0 row5\" >AdaBoost_Regressor</th>\n",
       "                        <td id=\"T_330d2a8a_7a99_11ea_a9ab_54bf6444d85arow5_col0\" class=\"data row5 col0\" >0.806966</td>\n",
       "                        <td id=\"T_330d2a8a_7a99_11ea_a9ab_54bf6444d85arow5_col1\" class=\"data row5 col1\" >0.165944</td>\n",
       "                        <td id=\"T_330d2a8a_7a99_11ea_a9ab_54bf6444d85arow5_col2\" class=\"data row5 col2\" >0.027537</td>\n",
       "                        <td id=\"T_330d2a8a_7a99_11ea_a9ab_54bf6444d85arow5_col3\" class=\"data row5 col3\" >0.123753</td>\n",
       "            </tr>\n",
       "            <tr>\n",
       "                        <th id=\"T_330d2a8a_7a99_11ea_a9ab_54bf6444d85alevel0_row6\" class=\"row_heading level0 row6\" >DecisionTree_Regressor</th>\n",
       "                        <td id=\"T_330d2a8a_7a99_11ea_a9ab_54bf6444d85arow6_col0\" class=\"data row6 col0\" >0.802412</td>\n",
       "                        <td id=\"T_330d2a8a_7a99_11ea_a9ab_54bf6444d85arow6_col1\" class=\"data row6 col1\" >0.167890</td>\n",
       "                        <td id=\"T_330d2a8a_7a99_11ea_a9ab_54bf6444d85arow6_col2\" class=\"data row6 col2\" >0.028187</td>\n",
       "                        <td id=\"T_330d2a8a_7a99_11ea_a9ab_54bf6444d85arow6_col3\" class=\"data row6 col3\" >0.123141</td>\n",
       "            </tr>\n",
       "            <tr>\n",
       "                        <th id=\"T_330d2a8a_7a99_11ea_a9ab_54bf6444d85alevel0_row7\" class=\"row_heading level0 row7\" >SupportVectorReg_CrossValidated</th>\n",
       "                        <td id=\"T_330d2a8a_7a99_11ea_a9ab_54bf6444d85arow7_col0\" class=\"data row7 col0\" >0.892653</td>\n",
       "                        <td id=\"T_330d2a8a_7a99_11ea_a9ab_54bf6444d85arow7_col1\" class=\"data row7 col1\" >0.123748</td>\n",
       "                        <td id=\"T_330d2a8a_7a99_11ea_a9ab_54bf6444d85arow7_col2\" class=\"data row7 col2\" >0.015314</td>\n",
       "                        <td id=\"T_330d2a8a_7a99_11ea_a9ab_54bf6444d85arow7_col3\" class=\"data row7 col3\" >0.085689</td>\n",
       "            </tr>\n",
       "            <tr>\n",
       "                        <th id=\"T_330d2a8a_7a99_11ea_a9ab_54bf6444d85alevel0_row8\" class=\"row_heading level0 row8\" >RandomForest_CrossValidated</th>\n",
       "                        <td id=\"T_330d2a8a_7a99_11ea_a9ab_54bf6444d85arow8_col0\" class=\"data row8 col0\" >0.859930</td>\n",
       "                        <td id=\"T_330d2a8a_7a99_11ea_a9ab_54bf6444d85arow8_col1\" class=\"data row8 col1\" >0.141357</td>\n",
       "                        <td id=\"T_330d2a8a_7a99_11ea_a9ab_54bf6444d85arow8_col2\" class=\"data row8 col2\" >0.019982</td>\n",
       "                        <td id=\"T_330d2a8a_7a99_11ea_a9ab_54bf6444d85arow8_col3\" class=\"data row8 col3\" >0.091867</td>\n",
       "            </tr>\n",
       "            <tr>\n",
       "                        <th id=\"T_330d2a8a_7a99_11ea_a9ab_54bf6444d85alevel0_row9\" class=\"row_heading level0 row9\" >XGboost_CrossValidated</th>\n",
       "                        <td id=\"T_330d2a8a_7a99_11ea_a9ab_54bf6444d85arow9_col0\" class=\"data row9 col0\" >0.860726</td>\n",
       "                        <td id=\"T_330d2a8a_7a99_11ea_a9ab_54bf6444d85arow9_col1\" class=\"data row9 col1\" >0.140954</td>\n",
       "                        <td id=\"T_330d2a8a_7a99_11ea_a9ab_54bf6444d85arow9_col2\" class=\"data row9 col2\" >0.019868</td>\n",
       "                        <td id=\"T_330d2a8a_7a99_11ea_a9ab_54bf6444d85arow9_col3\" class=\"data row9 col3\" >0.097034</td>\n",
       "            </tr>\n",
       "            <tr>\n",
       "                        <th id=\"T_330d2a8a_7a99_11ea_a9ab_54bf6444d85alevel0_row10\" class=\"row_heading level0 row10\" >AdaBoost_CrossValidated</th>\n",
       "                        <td id=\"T_330d2a8a_7a99_11ea_a9ab_54bf6444d85arow10_col0\" class=\"data row10 col0\" >0.819789</td>\n",
       "                        <td id=\"T_330d2a8a_7a99_11ea_a9ab_54bf6444d85arow10_col1\" class=\"data row10 col1\" >0.160337</td>\n",
       "                        <td id=\"T_330d2a8a_7a99_11ea_a9ab_54bf6444d85arow10_col2\" class=\"data row10 col2\" >0.025708</td>\n",
       "                        <td id=\"T_330d2a8a_7a99_11ea_a9ab_54bf6444d85arow10_col3\" class=\"data row10 col3\" >0.119548</td>\n",
       "            </tr>\n",
       "    </tbody></table>"
      ],
      "text/plain": [
       "<pandas.io.formats.style.Styler at 0x21b2ff869c8>"
      ]
     },
     "execution_count": 690,
     "metadata": {},
     "output_type": "execute_result"
    }
   ],
   "source": [
    "Best_Model ={'Model':['Linear_Regression','RandomForest_Regressor', 'XGBoost_Regressor','SupportVector_Regressor', 'KNN_Regressor','AdaBoost_Regressor','DecisionTree_Regressor','SupportVectorReg_CrossValidated','RandomForest_CrossValidated','XGboost_CrossValidated','AdaBoost_CrossValidated'],\n",
    "        'R2_Score':[LR_r2_score,rf_r2_score,XGb_r2_score,SVR_r2_score,KNN_r2_score,Ada_r2_score,Dtree_r2_score,SVR_CV_r2_score,RF_CV_r2_score,XGb_r2_score_CV,Ada_r2_score_CV],'RMSE':[LR_RMSE,rf_RMSE,XGb_RMSE,SVR_RMSE,KNN_RMSE,Ada_RMSE,Dtree_RMSE,SVR_CV,RF_CV,XGb_RMSE_CV,Ada_RMSE_CV]\n",
    "            ,'MSE':[LR_MSE,rf_MSE,XGb_MSE,SVR_MSE,KNN_MSE,Ada_MSE,Dtree_MSE,SVR_CV_MSE,RF_CV_MSE,XGb_MSE_CV,Ada_MSE_CV],'MAE':[LR_MAE,rf_MAE,XGb_MAE,SVR_MAE,KNN_MAE,Ada_MAE,Dtree_MAE,SVR_CV_MAE,RF_CV_MAE,XGb_MAE_CV,Ada_MAE_CV]}\n",
    "Best_Model =pd.DataFrame(Best_Model)\n",
    "Best_Model=Best_Model.set_index('Model')\n",
    "Best_Model\n",
    "\n",
    "# def highlight_cells(x):\n",
    "#     df = x.copy()\n",
    "#     df.loc[:,:] = '' \n",
    "#     df.iloc[3,0] = 'background-color: pink'\n",
    "#     df.iloc[3,1] = 'background-color: orange'\n",
    "#     df.iloc[3,2] = 'background-color: yellow'\n",
    "#     df.iloc[3,3] = 'background-color: lightgreen'\n",
    "#     df.iloc[7,0] = 'background-color: pink'\n",
    "#     df.iloc[7,1] = 'background-color: orange'\n",
    "#     df.iloc[7,2] = 'background-color: yellow'\n",
    "#     df.iloc[7,3] = 'background-color: lightgreen'\n",
    "#     return df \n",
    "\n",
    "# t = Best_Model.style.apply(highlight_cells, axis=None)\n",
    "# t"
   ]
  },
  {
   "cell_type": "markdown",
   "metadata": {},
   "source": [
    "#### <html><font color='red' size=\"4\"> The Best Model Is  <font size=\"4\"><font color=\"blue\"> :: </font> </font>Support Vector Regressor</font></html>"
   ]
  },
  {
   "cell_type": "code",
   "execution_count": null,
   "metadata": {},
   "outputs": [],
   "source": []
  },
  {
   "cell_type": "code",
   "execution_count": null,
   "metadata": {},
   "outputs": [],
   "source": []
  }
 ],
 "metadata": {
  "kernelspec": {
   "display_name": "Python 3",
   "language": "python",
   "name": "python3"
  },
  "language_info": {
   "codemirror_mode": {
    "name": "ipython",
    "version": 3
   },
   "file_extension": ".py",
   "mimetype": "text/x-python",
   "name": "python",
   "nbconvert_exporter": "python",
   "pygments_lexer": "ipython3",
   "version": "3.7.6"
  }
 },
 "nbformat": 4,
 "nbformat_minor": 4
}
